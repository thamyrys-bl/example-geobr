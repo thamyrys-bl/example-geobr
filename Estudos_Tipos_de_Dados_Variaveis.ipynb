{
  "nbformat": 4,
  "nbformat_minor": 0,
  "metadata": {
    "colab": {
      "provenance": [],
      "authorship_tag": "ABX9TyPJc2R/3yvRr4Phgf1LBzpv",
      "include_colab_link": true
    },
    "kernelspec": {
      "name": "python3",
      "display_name": "Python 3"
    },
    "language_info": {
      "name": "python"
    }
  },
  "cells": [
    {
      "cell_type": "markdown",
      "metadata": {
        "id": "view-in-github",
        "colab_type": "text"
      },
      "source": [
        "<a href=\"https://colab.research.google.com/github/thamyrys-bl/example-geobr/blob/main/Estudos_Tipos_de_Dados_Variaveis.ipynb\" target=\"_parent\"><img src=\"https://colab.research.google.com/assets/colab-badge.svg\" alt=\"Open In Colab\"/></a>"
      ]
    },
    {
      "cell_type": "markdown",
      "source": [
        "# Trabalhando com textos"
      ],
      "metadata": {
        "id": "AqW6nFFLvRqJ"
      }
    },
    {
      "cell_type": "markdown",
      "source": [
        "<h1> Strings e print() <h1>\n",
        "\n",
        "Textos em Python são colocados entre aspas 'str'\n",
        "\n",
        "Vamos mostrar a msg para o usuário:\n",
        " 'Olá, Mundo!'\n",
        "\n",
        " Para isso vamos usar a função:\n",
        " print()\n",
        "\n",
        "\n"
      ],
      "metadata": {
        "id": "Eu2II1DnvegB"
      }
    },
    {
      "cell_type": "code",
      "source": [
        "#função imprimir\n",
        "print('Olá, Mundo!!!')"
      ],
      "metadata": {
        "colab": {
          "base_uri": "https://localhost:8080/"
        },
        "id": "by4I9BL8veCN",
        "outputId": "6dc8f9ca-cf16-44de-dc4d-919b9ebca9db"
      },
      "execution_count": 1,
      "outputs": [
        {
          "output_type": "stream",
          "name": "stdout",
          "text": [
            "Olá, Mundo!!!\n"
          ]
        }
      ]
    },
    {
      "cell_type": "markdown",
      "source": [
        "<h1> Entendendo a Estrutura <h1>\n",
        "\n",
        "print('Olá Mundo!')\n",
        ">string [Tipo de Dado] = 'Olá Mundo' = é\n",
        "uma cadeia de caracteres 'str'\n",
        "\n",
        ">'print'( ) [Função] = imprime para o \n",
        "usuário o que estiver dentro do: ( )\n",
        "\n",
        "> '#' [Comentário] = após o '#' tudo é\n",
        "desprezado na linha"
      ],
      "metadata": {
        "id": "OSP-aTU2w6a3"
      }
    },
    {
      "cell_type": "code",
      "source": [
        "#exemplos\n",
        "print('Olá Mundo')\n",
        "\n",
        "print('   ')\n",
        "print('10')\n",
        "print()\n",
        "print('@#$$')"
      ],
      "metadata": {
        "colab": {
          "base_uri": "https://localhost:8080/"
        },
        "id": "8kzFvVfvwzCf",
        "outputId": "02f4bd02-be9d-4f8c-b44d-d21cd829f5dd"
      },
      "execution_count": 2,
      "outputs": [
        {
          "output_type": "stream",
          "name": "stdout",
          "text": [
            "Olá Mundo\n",
            "   \n",
            "10\n",
            "\n",
            "@#$$\n"
          ]
        }
      ]
    },
    {
      "cell_type": "markdown",
      "source": [
        "# Trabalhando com números"
      ],
      "metadata": {
        "id": "9rW1SwAMybFo"
      }
    },
    {
      "cell_type": "markdown",
      "source": [
        "Número em Python são colocados direto e podem ou não ter casas decimais.\n",
        "\n",
        "> 7 = número interio = 'int'\n",
        "\n",
        "> 7.2 = núero com 'vírgula' = 'float'\n",
        "\n",
        "**Atenção: o separador decimal no Python \n",
        "é o ponto**\n"
      ],
      "metadata": {
        "id": "N5fy3RDvyiIK"
      }
    },
    {
      "cell_type": "code",
      "source": [
        "#número do tipo int\n",
        "print(7)"
      ],
      "metadata": {
        "colab": {
          "base_uri": "https://localhost:8080/"
        },
        "id": "ZZYwbzeWyfNd",
        "outputId": "3fb45feb-8d09-4924-fcc5-ab98b9909d59"
      },
      "execution_count": 3,
      "outputs": [
        {
          "output_type": "stream",
          "name": "stdout",
          "text": [
            "7\n"
          ]
        }
      ]
    },
    {
      "cell_type": "code",
      "source": [
        "#número do tipo float\n",
        "print(7.2)"
      ],
      "metadata": {
        "colab": {
          "base_uri": "https://localhost:8080/"
        },
        "id": "gqApFPhGzN8z",
        "outputId": "7f7c3cb2-17cd-4121-ddd4-4d3b693253a7"
      },
      "execution_count": 4,
      "outputs": [
        {
          "output_type": "stream",
          "name": "stdout",
          "text": [
            "7.2\n"
          ]
        }
      ]
    },
    {
      "cell_type": "markdown",
      "source": [
        "<h1> Somando números <h1>\n",
        "\n",
        "Basta usar o sinal de '+'"
      ],
      "metadata": {
        "id": "dOe_pvsIzU5i"
      }
    },
    {
      "cell_type": "code",
      "source": [
        "#somando 2 int\n",
        "print(7+2)"
      ],
      "metadata": {
        "colab": {
          "base_uri": "https://localhost:8080/"
        },
        "id": "fsovPLlDzSC_",
        "outputId": "328a9a7e-970d-4338-e454-13ac7aad911e"
      },
      "execution_count": 5,
      "outputs": [
        {
          "output_type": "stream",
          "name": "stdout",
          "text": [
            "9\n"
          ]
        }
      ]
    },
    {
      "cell_type": "code",
      "source": [
        "#somando 2 float\n",
        "print(7.2+2)"
      ],
      "metadata": {
        "colab": {
          "base_uri": "https://localhost:8080/"
        },
        "id": "eSJlJBJszsRD",
        "outputId": "abd475a7-9d23-4710-fccf-6c696f2e189b"
      },
      "execution_count": 6,
      "outputs": [
        {
          "output_type": "stream",
          "name": "stdout",
          "text": [
            "9.2\n"
          ]
        }
      ]
    },
    {
      "cell_type": "code",
      "source": [
        "# e se eu colocar os números entre 'aspas'?\n",
        "print('7'+'2')"
      ],
      "metadata": {
        "colab": {
          "base_uri": "https://localhost:8080/"
        },
        "id": "dyDIu6t3zxjI",
        "outputId": "ee7e8fb8-d564-4f3a-a644-6f7d966f690e"
      },
      "execution_count": 7,
      "outputs": [
        {
          "output_type": "stream",
          "name": "stdout",
          "text": [
            "72\n"
          ]
        }
      ]
    },
    {
      "cell_type": "markdown",
      "source": [
        "<h1> Porque o valor acima deu 72 e não 9?\n",
        "\n",
        "Lembre-se: Se tem **aspas** então é \n",
        "**string**\n",
        "\n",
        "Se é string o símbolo de '+'\n",
        "**concatena** as strings, ou seja,\n",
        "junta uma com a outra!!!\n",
        "\n",
        "'João' + 'Silva = 'João Silva'"
      ],
      "metadata": {
        "id": "H-eyLlY90IK6"
      }
    },
    {
      "cell_type": "code",
      "source": [
        "#print do João Silva\n",
        "print('João' + ' ' + 'Silva')"
      ],
      "metadata": {
        "colab": {
          "base_uri": "https://localhost:8080/"
        },
        "id": "VoAabq7Tz5Co",
        "outputId": "9254bc43-e987-431a-bef9-c3bf445b5cba"
      },
      "execution_count": 8,
      "outputs": [
        {
          "output_type": "stream",
          "name": "stdout",
          "text": [
            "João Silva\n"
          ]
        }
      ]
    },
    {
      "cell_type": "markdown",
      "source": [
        "<h2> Outras maneiras de se usar o \n",
        "print() <h2>\n",
        "\n",
        "Para se juntar várias informações em um print só, precisamos concatenar nossas frases e valores.\n",
        "Temos 2 maneiras de fazer:\n",
        "\n",
        "> print('Frase 1' + 'Frase 2' + ...)\n",
        "\n",
        "> print('Frase 1','Frase 2', + ...)"
      ],
      "metadata": {
        "id": "RCzSm7LO1dfc"
      }
    },
    {
      "cell_type": "code",
      "source": [
        "#Exemplos de print com o +\n",
        "print('Meu nome é' + 'Thamyrys')\n",
        "\n",
        "#Exemplos de print com a ,\n",
        "print('Meu nome é','Thamyrys')"
      ],
      "metadata": {
        "colab": {
          "base_uri": "https://localhost:8080/"
        },
        "id": "BlRFFAf90uWp",
        "outputId": "238d5901-b048-4d2f-c4c1-e83260565577"
      },
      "execution_count": 9,
      "outputs": [
        {
          "output_type": "stream",
          "name": "stdout",
          "text": [
            "Meu nome éThamyrys\n",
            "Meu nome é Thamyrys\n"
          ]
        }
      ]
    },
    {
      "cell_type": "code",
      "source": [
        "#Exemplo de print com string e números usando ,\n",
        "print('eu tenho',1,'filho')"
      ],
      "metadata": {
        "colab": {
          "base_uri": "https://localhost:8080/"
        },
        "id": "ZZ2ZUF_k2N-U",
        "outputId": "fe41a21a-0bb6-4c0b-b983-dda2d5430d31"
      },
      "execution_count": 10,
      "outputs": [
        {
          "output_type": "stream",
          "name": "stdout",
          "text": [
            "eu tenho 1 filho\n"
          ]
        }
      ]
    },
    {
      "cell_type": "code",
      "source": [
        "#Exemplo de print com string e números usando +\n",
        "#print('eu tenho' + 1 + 'filho') dá erro"
      ],
      "metadata": {
        "id": "u606iEPE2cxr"
      },
      "execution_count": 11,
      "outputs": []
    },
    {
      "cell_type": "markdown",
      "source": [
        "<h2> Explicação do Porquê do erro acima <h2>\n",
        "\n",
        "Quando usamos a função 'print(, , ,)' separando com vírgulas a função está \n",
        "plotando 1 termo de cada vez, seja ele string, seja ele int, seja ele float.\n",
        "\n",
        "Quando usamos a função 'print(+ + +)'\n",
        "separando com soma a gente está somando\n",
        "os valores dentro do print antes de plotar.\n",
        "E a função soma tem funcionalidades\n",
        "diferentes dependendo do Tipo de Dado que\n",
        "estamos trabalhando.\n",
        "\n",
        "> int + int -> soma\n",
        "\n",
        "> float + float -> soma\n",
        "\n",
        "> int + float -> soma\n",
        "\n",
        "> str + str -> concatenar\n",
        "\n",
        "> str + int -> ***erro***\n"
      ],
      "metadata": {
        "id": "2S6ycYE625aC"
      }
    },
    {
      "cell_type": "markdown",
      "source": [
        "# Trabalhando com variáveis"
      ],
      "metadata": {
        "id": "07zzwg-94EXa"
      }
    },
    {
      "cell_type": "markdown",
      "source": [
        "<h1> Declarando Variáveis </h1>\n",
        "\n",
        "Da mesma maneira que em estudo de \n",
        "equações (x + 7 = 8), tínhamos letras\n",
        "que representavam números, em programação\n",
        "elas são chamadas de variáveis!!!\n",
        "\n",
        "O nome é variável pois durante os nossos \n",
        "programas elas podem variar de valor.\n",
        "\n",
        "Utilizamos as variáveis para armazenar\n",
        "valores (sejam eles do tipo texto ou numérico) para que possamos utilizar \n",
        "várias vezes durante o mesmo programa.\n",
        "\n",
        "Também podemos utilizar para salvar um valor que o usuário fornece para gente.\n",
        "\n",
        "<h2> Como declarar? </h2>\n",
        "\n",
        "'nomeDaVariavel = valorDaVariavel'\n",
        "\n",
        "<h3> Exemplos </h3>\n",
        "\n",
        "> lanche = x-burguer\n",
        "\n",
        "*lê-se: a variável lanche recebe o valor 'x-burguer' do tipo str*\n",
        "\n",
        "> preco = 10.9\n",
        "\n",
        "> qtd = 2\n",
        "\n",
        "Variáveis nõa podem ter:\n",
        "* Começar com número ou Caractere Especial\n",
        "\n",
        "<h3> Boas práticas!!! </h3>\n",
        "\n",
        "* O nome das variáveis deve ser claro\n",
        "para qualquer programador que ler o seu programa\n",
        "\n",
        "> Não use: preço - Use:preco\n",
        "\n",
        "* Use as variáveis com letra minúscula e \n",
        "separe as palavras por letra maiúscula \n",
        "ou underline '_'\n",
        "\n",
        "> 'lanchePreco'\n",
        "\n",
        "> 'lanche_preco'\n",
        "\n",
        "* Em variáveis com nomes grandes (como \n",
        "acima), primeiro coloque o nome do Objeto para depois a da caracteristica\n",
        "\n",
        "> 'lanchePreco', pois Preço é uma\n",
        "característica (atributo) do Lanche."
      ],
      "metadata": {
        "id": "zvzp74AQ4OUm"
      }
    },
    {
      "cell_type": "code",
      "source": [
        "# Vamos fazer algumas contas:\n",
        "\n",
        "#Declarando as variáveis (atribuindo valores):\n",
        "lanchePreco = 10.9\n",
        "batataPreco = 5.9\n",
        "refriPreco = 3"
      ],
      "metadata": {
        "id": "NebRCcHg4IPI"
      },
      "execution_count": 12,
      "outputs": []
    },
    {
      "cell_type": "code",
      "source": [
        "# Quanto custa pedir um Lanche e uma Batata?\n",
        "print(lanchePreco + batataPreco)"
      ],
      "metadata": {
        "id": "G5eT8xHnI254",
        "colab": {
          "base_uri": "https://localhost:8080/"
        },
        "outputId": "bce0f8bd-2fd6-45d6-d756-c2dcbea72978"
      },
      "execution_count": 13,
      "outputs": [
        {
          "output_type": "stream",
          "name": "stdout",
          "text": [
            "16.8\n"
          ]
        }
      ]
    },
    {
      "cell_type": "code",
      "source": [
        "# Quanto custa pedir um Lanche e um Refri?\n",
        "print(lanchePreco + refriPreco)"
      ],
      "metadata": {
        "id": "8nMORF-1I71c",
        "colab": {
          "base_uri": "https://localhost:8080/"
        },
        "outputId": "f811b020-1ba9-4891-e75d-0b2a8746901e"
      },
      "execution_count": 14,
      "outputs": [
        {
          "output_type": "stream",
          "name": "stdout",
          "text": [
            "13.9\n"
          ]
        }
      ]
    },
    {
      "cell_type": "code",
      "source": [
        "# Podemos atribuir uma variável para a conta total do pedido?\n",
        "pedidoValorTotal = lanchePreco + batataPreco + refriPreco\n",
        "print(pedidoValorTotal)"
      ],
      "metadata": {
        "id": "vQgZMbczJAC2",
        "colab": {
          "base_uri": "https://localhost:8080/"
        },
        "outputId": "ee106471-4005-40fa-fb76-e74a91f3e064"
      },
      "execution_count": 15,
      "outputs": [
        {
          "output_type": "stream",
          "name": "stdout",
          "text": [
            "19.8\n"
          ]
        }
      ]
    },
    {
      "cell_type": "markdown",
      "source": [
        "<h2> Podemos fazer impressão composta?\n",
        "</h2>\n",
        "\n",
        "Para montarmos melhor o resultado para o nosso cliente é comum utilizarmos a função com strings e ints e floats \n",
        "misturados"
      ],
      "metadata": {
        "id": "_SKHfoC6YXds"
      }
    },
    {
      "cell_type": "code",
      "source": [
        "#Quanto fica pedir um lanche e uma batata?\n",
        "#Considere a forma de pagamento pelo cartão\n",
        "pagamentoForma = 'cartao'\n",
        "pedidoValorTotal = lanchePreco + batataPreco\n",
        "print('Vc pediu um lanche de: R$',lanchePreco, 'e uma batata de: R$',batataPreco,'totalizando: R$',pedidoValorTotal,'. E o seu pagamento foi feito por:',pagamentoForma)"
      ],
      "metadata": {
        "colab": {
          "base_uri": "https://localhost:8080/"
        },
        "id": "NOtlWA4YYQov",
        "outputId": "5bf5d89a-ca14-483c-e19e-8b4f73378f55"
      },
      "execution_count": 16,
      "outputs": [
        {
          "output_type": "stream",
          "name": "stdout",
          "text": [
            "Vc pediu um lanche de: R$ 10.9 e uma batata de: R$ 5.9 totalizando: R$ 16.8 . E o seu pagamento foi feito por: cartao\n"
          ]
        }
      ]
    },
    {
      "cell_type": "code",
      "source": [],
      "metadata": {
        "id": "ISOIxAkKZKKA"
      },
      "execution_count": 16,
      "outputs": []
    },
    {
      "cell_type": "markdown",
      "source": [
        "##Pegando Dados do Ussuário"
      ],
      "metadata": {
        "id": "2uLsmXz9aiaB"
      }
    },
    {
      "cell_type": "markdown",
      "source": [
        "<h1> Função input() </h1>\n",
        "\n",
        "Para melhorarmos a interface com o \n",
        "usuário podemos pedir para que ele insira\n",
        "os valores de cada variável usando o\n",
        "'input()'\n",
        "\n",
        "Para usarmos precisamos atribuir a \n",
        "resposta do usuário a uma variável e\n",
        "também colocar uma frase que indique para o usuário o que ele deve digitar:\n",
        "\n",
        "<h3> Exemplo </h3>\n",
        "\n",
        "lancheNome = input('Qual lanche vc quer?)"
      ],
      "metadata": {
        "id": "N5w-58Htaqey"
      }
    },
    {
      "cell_type": "code",
      "source": [
        "#Peça para o usuário falar qual lanche ele quer pedir:\n",
        "lancheNome= input('Qual lanche vc quer? ')\n",
        "print('vc pediu um(a): ',lancheNome)"
      ],
      "metadata": {
        "colab": {
          "base_uri": "https://localhost:8080/"
        },
        "id": "hQ2QiftbaoJu",
        "outputId": "0554758f-92d5-4c83-82ab-712479272df5"
      },
      "execution_count": 17,
      "outputs": [
        {
          "output_type": "stream",
          "name": "stdout",
          "text": [
            "Qual lanche vc quer? pizza\n",
            "vc pediu um(a):  pizza\n"
          ]
        }
      ]
    },
    {
      "cell_type": "markdown",
      "source": [
        "# Detectando tipo de Variáveis"
      ],
      "metadata": {
        "id": "pWlvHPX4byab"
      }
    },
    {
      "cell_type": "markdown",
      "source": [
        "<h1> Função: type( ) </h1>\n",
        "\n",
        "No input e em outros casos podemos nos\n",
        "deparar com tipos de dados indesejados.\n",
        "Para isso podemos validar utilizando a\n",
        "função: 'type( )'"
      ],
      "metadata": {
        "id": "W45rXn7zb-WI"
      }
    },
    {
      "cell_type": "code",
      "source": [
        "#Use o type em uma string\n",
        "type('Thamyrys')"
      ],
      "metadata": {
        "colab": {
          "base_uri": "https://localhost:8080/"
        },
        "id": "XfI8uTUPbjIy",
        "outputId": "8f755db7-e23d-4360-f89f-8af20973d1bc"
      },
      "execution_count": 18,
      "outputs": [
        {
          "output_type": "execute_result",
          "data": {
            "text/plain": [
              "str"
            ]
          },
          "metadata": {},
          "execution_count": 18
        }
      ]
    },
    {
      "cell_type": "code",
      "source": [
        "#Use o type em um Float\n",
        "type(2.34)"
      ],
      "metadata": {
        "colab": {
          "base_uri": "https://localhost:8080/"
        },
        "id": "cccEhx_UcWZW",
        "outputId": "ceb82696-119e-4075-8de1-d075803507df"
      },
      "execution_count": 19,
      "outputs": [
        {
          "output_type": "execute_result",
          "data": {
            "text/plain": [
              "float"
            ]
          },
          "metadata": {},
          "execution_count": 19
        }
      ]
    },
    {
      "cell_type": "code",
      "source": [
        "#Use o type em Int\n",
        "type(7)"
      ],
      "metadata": {
        "colab": {
          "base_uri": "https://localhost:8080/"
        },
        "id": "Td-wWD35cb42",
        "outputId": "00657089-b139-4fa7-9f77-3f12c5048c0a"
      },
      "execution_count": 20,
      "outputs": [
        {
          "output_type": "execute_result",
          "data": {
            "text/plain": [
              "int"
            ]
          },
          "metadata": {},
          "execution_count": 20
        }
      ]
    },
    {
      "cell_type": "code",
      "source": [
        "#Use o type em 2 variaveis seguidas:\n",
        "type(5)\n",
        "type('Thamyrys')"
      ],
      "metadata": {
        "colab": {
          "base_uri": "https://localhost:8080/"
        },
        "id": "q9O_0kzGcgQG",
        "outputId": "cb81a0a1-2a73-47e1-fdef-91416b2a2de8"
      },
      "execution_count": 21,
      "outputs": [
        {
          "output_type": "execute_result",
          "data": {
            "text/plain": [
              "str"
            ]
          },
          "metadata": {},
          "execution_count": 21
        }
      ]
    },
    {
      "cell_type": "markdown",
      "source": [
        "<h3> Por que no exemplo acima só apareceu o tipo de uma variável? E por que foi\n",
        "somente da última? </h3>\n",
        "\n",
        "Quando usamos o type direto ele só vai\n",
        "mostrar no terminal o tipo da última\n",
        "variável. Se quisermos mostrar mais do\n",
        "que uma temos que usar uma função que\n",
        "consegue mostrar várias coisas para o usuário de uma só vez:\n",
        "\n",
        "o 'print(  )"
      ],
      "metadata": {
        "id": "1VuiOFyDc3DX"
      }
    },
    {
      "cell_type": "code",
      "source": [
        "#Use o type em 2 variáveis\n",
        "print(type(5))\n",
        "print(type('Thamyrys'))"
      ],
      "metadata": {
        "colab": {
          "base_uri": "https://localhost:8080/"
        },
        "id": "6uDGr1hkcm6O",
        "outputId": "c030905b-4500-4633-8a82-9bd035eaeca8"
      },
      "execution_count": 22,
      "outputs": [
        {
          "output_type": "stream",
          "name": "stdout",
          "text": [
            "<class 'int'>\n",
            "<class 'str'>\n"
          ]
        }
      ]
    },
    {
      "cell_type": "markdown",
      "source": [
        "Quando usamos variás funções uma dentro\n",
        "da outra o Python sempre irá executar as\n",
        "funções de mais de dentro primeiro para\n",
        "depois as mais de fora...\n",
        "\n",
        "Vamos usar uma variável de auxílio para nos ajudar nesse raciocínio:"
      ],
      "metadata": {
        "id": "ukgv5htzdtWw"
      }
    },
    {
      "cell_type": "code",
      "source": [
        "#Use o type em 2 variáveis seguidas:\n",
        "variavelTipo = type(lanchePreco)\n",
        "print(type(lanchePreco))\n",
        "\n",
        "variavelTipo = type(lancheNome)\n",
        "print(type(lancheNome))"
      ],
      "metadata": {
        "colab": {
          "base_uri": "https://localhost:8080/"
        },
        "id": "6v6S6z0SdeyH",
        "outputId": "aa5d7485-131a-40a9-dd2e-77114a370635"
      },
      "execution_count": 23,
      "outputs": [
        {
          "output_type": "stream",
          "name": "stdout",
          "text": [
            "<class 'float'>\n",
            "<class 'str'>\n"
          ]
        }
      ]
    },
    {
      "cell_type": "code",
      "source": [
        "#Peça para o usuário digitar um número e veja o tipo dessa variável\n",
        "numero = input ('Por favor, digite um número: ')\n",
        "type(numero)"
      ],
      "metadata": {
        "colab": {
          "base_uri": "https://localhost:8080/"
        },
        "id": "A9WecnDKezMh",
        "outputId": "e8ca86eb-b185-4438-c45c-a6a3c1a612e6"
      },
      "execution_count": 24,
      "outputs": [
        {
          "name": "stdout",
          "output_type": "stream",
          "text": [
            "Por favor, digite um número: 2\n"
          ]
        },
        {
          "output_type": "execute_result",
          "data": {
            "text/plain": [
              "str"
            ]
          },
          "metadata": {},
          "execution_count": 24
        }
      ]
    },
    {
      "cell_type": "markdown",
      "source": [
        "<h3> Mas por que o tipo da variável do\n",
        "exemplo acima não está como númerica?\n",
        "</h3>\n",
        "\n",
        "Sempre que o usuário inputa algum valor o Python vai entender sempre como string.\n",
        "Para contornarmos esse problema precisamos aprender a como converter\n",
        "variáveis de um tipo para outro.\n",
        "\n"
      ],
      "metadata": {
        "id": "77I7EKUQfU_K"
      }
    },
    {
      "cell_type": "markdown",
      "source": [
        "## Tipo de Dado Booleano\n",
        "\n",
        "É uma variável que sempre terá valor de\n",
        "Verdadeiro ou Falso:\n",
        "\n",
        "> 'True'\n",
        "\n",
        "> 'False'\n",
        "\n",
        "OBs.: Foco na letra maiúscula."
      ],
      "metadata": {
        "id": "2MX2ywgZf5WI"
      }
    },
    {
      "cell_type": "code",
      "source": [
        "#Crie 2 variáveis: pagamentoCartao e pagamentoDinheiro,\n",
        "#atribua valores Booleanos a ela e verifique o tipo da variável\n",
        "pagamentoCartao = True\n",
        "pagamentoDinheiro = False\n",
        "print(type(pagamentoCartao))\n",
        "print(type(pagamentoDinheiro))\n"
      ],
      "metadata": {
        "colab": {
          "base_uri": "https://localhost:8080/"
        },
        "id": "JQjeaW34fOvH",
        "outputId": "88b2d3eb-ef48-4c13-c331-208798bed35f"
      },
      "execution_count": 25,
      "outputs": [
        {
          "output_type": "stream",
          "name": "stdout",
          "text": [
            "<class 'bool'>\n",
            "<class 'bool'>\n"
          ]
        }
      ]
    },
    {
      "cell_type": "markdown",
      "source": [
        "# Exercícios"
      ],
      "metadata": {
        "id": "xb38LvtIg7W0"
      }
    },
    {
      "cell_type": "markdown",
      "source": [
        "<h3> Parte 1 </h3>\n",
        "\n",
        "Crie 3 variáveis:\n",
        "\n",
        "nomePrimeiro, nomeMeio, nomeUltimo\n",
        "\n",
        "Atribua um valor para cada uma delas e imprima a seguinte frase para o usuário:\n",
        "\n",
        "'Thamyrys Brito de Lucena, seja muito bem vinda a programação'\n",
        "\n"
      ],
      "metadata": {
        "id": "M-t7E9S3hL-J"
      }
    },
    {
      "cell_type": "code",
      "source": [
        "nomePrimeiro = 'Thamyrys'\n",
        "nomeMeio = 'Brito'\n",
        "nomeUltimo = 'de Lucena'\n",
        "print(nomePrimeiro,nomeMeio,nomeUltimo,', seja muito bem vinda a programação.')\n"
      ],
      "metadata": {
        "colab": {
          "base_uri": "https://localhost:8080/"
        },
        "id": "8guwT8NsgvuP",
        "outputId": "121b5a39-948e-4412-89c7-df66ba28da5a"
      },
      "execution_count": 26,
      "outputs": [
        {
          "output_type": "stream",
          "name": "stdout",
          "text": [
            "Thamyrys Brito de Lucena , seja muito bem vinda a programação.\n"
          ]
        }
      ]
    },
    {
      "cell_type": "markdown",
      "source": [
        "<h3> Parte 2 </h3>\n",
        "\n",
        "Respondendo ao usuário\n",
        "Faça um programa que leia o nome de uma pessoa e mostre uma mensagem."
      ],
      "metadata": {
        "id": "82Z_9qXpjPc4"
      }
    },
    {
      "cell_type": "code",
      "source": [
        "nome = input('Digite seu nome: ')\n",
        "print('É um prazer te conhecer, {}!'.format(nome))"
      ],
      "metadata": {
        "id": "AXcMwVnNBnqV",
        "colab": {
          "base_uri": "https://localhost:8080/"
        },
        "outputId": "0ce7da3e-3c9e-40b0-89a3-af34ed33c1f9"
      },
      "execution_count": 30,
      "outputs": [
        {
          "output_type": "stream",
          "name": "stdout",
          "text": [
            "Digite seu nome: Thamyrys Brito\n",
            "É um prazer te conhecer, Thamyrys Brito!\n"
          ]
        }
      ]
    },
    {
      "cell_type": "code",
      "source": [],
      "metadata": {
        "id": "Qg-AswzS1mjj"
      },
      "execution_count": null,
      "outputs": []
    }
  ]
}