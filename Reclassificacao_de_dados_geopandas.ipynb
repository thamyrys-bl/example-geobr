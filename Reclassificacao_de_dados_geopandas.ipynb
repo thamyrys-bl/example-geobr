{
  "nbformat": 4,
  "nbformat_minor": 0,
  "metadata": {
    "colab": {
      "provenance": [],
      "authorship_tag": "ABX9TyO3tESKa6kqHM0abUxBfXx7",
      "include_colab_link": true
    },
    "kernelspec": {
      "name": "python3",
      "display_name": "Python 3"
    },
    "language_info": {
      "name": "python"
    }
  },
  "cells": [
    {
      "cell_type": "markdown",
      "metadata": {
        "id": "view-in-github",
        "colab_type": "text"
      },
      "source": [
        "<a href=\"https://colab.research.google.com/github/thamyrys-bl/example-geobr/blob/main/Reclassificacao_de_dados_geopandas.ipynb\" target=\"_parent\"><img src=\"https://colab.research.google.com/assets/colab-badge.svg\" alt=\"Open In Colab\"/></a>"
      ]
    },
    {
      "cell_type": "markdown",
      "source": [
        "# 2. Reclassificação de dados"
      ],
      "metadata": {
        "id": "HP_U041XAtpx"
      }
    },
    {
      "cell_type": "code",
      "execution_count": null,
      "metadata": {
        "colab": {
          "base_uri": "https://localhost:8080/"
        },
        "id": "lB4-lZycAor_",
        "outputId": "afc48078-e825-4df9-c2a4-d7554256c2b7"
      },
      "outputs": [
        {
          "output_type": "stream",
          "name": "stdout",
          "text": [
            "Mounted at /content/drive\n"
          ]
        }
      ],
      "source": [
        "from google.colab import drive\n",
        "drive.mount('/content/drive', force_remount=True)"
      ]
    },
    {
      "cell_type": "code",
      "source": [
        "!pip install geopandas\n"
      ],
      "metadata": {
        "colab": {
          "base_uri": "https://localhost:8080/"
        },
        "id": "74prhSdtA_c1",
        "outputId": "23a3eee5-6508-481e-be18-19b02336573c"
      },
      "execution_count": null,
      "outputs": [
        {
          "output_type": "stream",
          "name": "stdout",
          "text": [
            "Looking in indexes: https://pypi.org/simple, https://us-python.pkg.dev/colab-wheels/public/simple/\n",
            "Requirement already satisfied: geopandas in /usr/local/lib/python3.7/dist-packages (0.10.2)\n",
            "Requirement already satisfied: pandas>=0.25.0 in /usr/local/lib/python3.7/dist-packages (from geopandas) (1.3.5)\n",
            "Requirement already satisfied: pyproj>=2.2.0 in /usr/local/lib/python3.7/dist-packages (from geopandas) (3.2.1)\n",
            "Requirement already satisfied: fiona>=1.8 in /usr/local/lib/python3.7/dist-packages (from geopandas) (1.8.21)\n",
            "Requirement already satisfied: shapely>=1.6 in /usr/local/lib/python3.7/dist-packages (from geopandas) (1.8.4)\n",
            "Requirement already satisfied: attrs>=17 in /usr/local/lib/python3.7/dist-packages (from fiona>=1.8->geopandas) (22.1.0)\n",
            "Requirement already satisfied: certifi in /usr/local/lib/python3.7/dist-packages (from fiona>=1.8->geopandas) (2022.6.15)\n",
            "Requirement already satisfied: click>=4.0 in /usr/local/lib/python3.7/dist-packages (from fiona>=1.8->geopandas) (7.1.2)\n",
            "Requirement already satisfied: setuptools in /usr/local/lib/python3.7/dist-packages (from fiona>=1.8->geopandas) (57.4.0)\n",
            "Requirement already satisfied: cligj>=0.5 in /usr/local/lib/python3.7/dist-packages (from fiona>=1.8->geopandas) (0.7.2)\n",
            "Requirement already satisfied: six>=1.7 in /usr/local/lib/python3.7/dist-packages (from fiona>=1.8->geopandas) (1.15.0)\n",
            "Requirement already satisfied: munch in /usr/local/lib/python3.7/dist-packages (from fiona>=1.8->geopandas) (2.5.0)\n",
            "Requirement already satisfied: click-plugins>=1.0 in /usr/local/lib/python3.7/dist-packages (from fiona>=1.8->geopandas) (1.1.1)\n",
            "Requirement already satisfied: python-dateutil>=2.7.3 in /usr/local/lib/python3.7/dist-packages (from pandas>=0.25.0->geopandas) (2.8.2)\n",
            "Requirement already satisfied: numpy>=1.17.3 in /usr/local/lib/python3.7/dist-packages (from pandas>=0.25.0->geopandas) (1.21.6)\n",
            "Requirement already satisfied: pytz>=2017.3 in /usr/local/lib/python3.7/dist-packages (from pandas>=0.25.0->geopandas) (2022.2.1)\n"
          ]
        }
      ]
    },
    {
      "cell_type": "code",
      "source": [
        "import geopandas as gpd\n",
        "dados=gpd.read_file('/content/TravelTimes_to_5975375_RailwayStation.shp')"
      ],
      "metadata": {
        "id": "-Xct3PqCDBy_"
      },
      "execution_count": null,
      "outputs": []
    },
    {
      "cell_type": "code",
      "source": [
        "dados.head()"
      ],
      "metadata": {
        "colab": {
          "base_uri": "https://localhost:8080/",
          "height": 617
        },
        "id": "Bse1SLHADSAf",
        "outputId": "87af5970-a4ef-418e-9ac5-46d067437177"
      },
      "execution_count": null,
      "outputs": [
        {
          "output_type": "execute_result",
          "data": {
            "text/plain": [
              "   car_m_d  car_m_t  car_r_d  car_r_t  from_id  pt_m_d  pt_m_t  pt_m_tt  \\\n",
              "0    32297       43    32260       48  5785640   32616     116      147   \n",
              "1    32508       43    32471       49  5785641   32822     119      145   \n",
              "2    30133       50    31872       56  5785642   32940     121      146   \n",
              "3    32690       54    34429       60  5785643   33233     125      150   \n",
              "4    31872       42    31834       48  5787544   32127     109      126   \n",
              "\n",
              "   pt_r_d  pt_r_t  pt_r_tt    to_id  walk_d  walk_t  \\\n",
              "0   32616     108      139  5975375   32164     459   \n",
              "1   32822     111      133  5975375   29547     422   \n",
              "2   32940     113      133  5975375   29626     423   \n",
              "3   33233     117      144  5975375   29919     427   \n",
              "4   32127     101      121  5975375   31674     452   \n",
              "\n",
              "                                            geometry  \n",
              "0  POLYGON ((382000.000 6697750.000, 381750.000 6...  \n",
              "1  POLYGON ((382250.000 6697750.000, 382000.000 6...  \n",
              "2  POLYGON ((382500.000 6697750.000, 382250.000 6...  \n",
              "3  POLYGON ((382750.000 6697750.000, 382500.000 6...  \n",
              "4  POLYGON ((381250.000 6697500.000, 381000.000 6...  "
            ],
            "text/html": [
              "\n",
              "  <div id=\"df-e46ba6f0-8a9c-4306-82a1-a50f481958f7\">\n",
              "    <div class=\"colab-df-container\">\n",
              "      <div>\n",
              "<style scoped>\n",
              "    .dataframe tbody tr th:only-of-type {\n",
              "        vertical-align: middle;\n",
              "    }\n",
              "\n",
              "    .dataframe tbody tr th {\n",
              "        vertical-align: top;\n",
              "    }\n",
              "\n",
              "    .dataframe thead th {\n",
              "        text-align: right;\n",
              "    }\n",
              "</style>\n",
              "<table border=\"1\" class=\"dataframe\">\n",
              "  <thead>\n",
              "    <tr style=\"text-align: right;\">\n",
              "      <th></th>\n",
              "      <th>car_m_d</th>\n",
              "      <th>car_m_t</th>\n",
              "      <th>car_r_d</th>\n",
              "      <th>car_r_t</th>\n",
              "      <th>from_id</th>\n",
              "      <th>pt_m_d</th>\n",
              "      <th>pt_m_t</th>\n",
              "      <th>pt_m_tt</th>\n",
              "      <th>pt_r_d</th>\n",
              "      <th>pt_r_t</th>\n",
              "      <th>pt_r_tt</th>\n",
              "      <th>to_id</th>\n",
              "      <th>walk_d</th>\n",
              "      <th>walk_t</th>\n",
              "      <th>geometry</th>\n",
              "    </tr>\n",
              "  </thead>\n",
              "  <tbody>\n",
              "    <tr>\n",
              "      <th>0</th>\n",
              "      <td>32297</td>\n",
              "      <td>43</td>\n",
              "      <td>32260</td>\n",
              "      <td>48</td>\n",
              "      <td>5785640</td>\n",
              "      <td>32616</td>\n",
              "      <td>116</td>\n",
              "      <td>147</td>\n",
              "      <td>32616</td>\n",
              "      <td>108</td>\n",
              "      <td>139</td>\n",
              "      <td>5975375</td>\n",
              "      <td>32164</td>\n",
              "      <td>459</td>\n",
              "      <td>POLYGON ((382000.000 6697750.000, 381750.000 6...</td>\n",
              "    </tr>\n",
              "    <tr>\n",
              "      <th>1</th>\n",
              "      <td>32508</td>\n",
              "      <td>43</td>\n",
              "      <td>32471</td>\n",
              "      <td>49</td>\n",
              "      <td>5785641</td>\n",
              "      <td>32822</td>\n",
              "      <td>119</td>\n",
              "      <td>145</td>\n",
              "      <td>32822</td>\n",
              "      <td>111</td>\n",
              "      <td>133</td>\n",
              "      <td>5975375</td>\n",
              "      <td>29547</td>\n",
              "      <td>422</td>\n",
              "      <td>POLYGON ((382250.000 6697750.000, 382000.000 6...</td>\n",
              "    </tr>\n",
              "    <tr>\n",
              "      <th>2</th>\n",
              "      <td>30133</td>\n",
              "      <td>50</td>\n",
              "      <td>31872</td>\n",
              "      <td>56</td>\n",
              "      <td>5785642</td>\n",
              "      <td>32940</td>\n",
              "      <td>121</td>\n",
              "      <td>146</td>\n",
              "      <td>32940</td>\n",
              "      <td>113</td>\n",
              "      <td>133</td>\n",
              "      <td>5975375</td>\n",
              "      <td>29626</td>\n",
              "      <td>423</td>\n",
              "      <td>POLYGON ((382500.000 6697750.000, 382250.000 6...</td>\n",
              "    </tr>\n",
              "    <tr>\n",
              "      <th>3</th>\n",
              "      <td>32690</td>\n",
              "      <td>54</td>\n",
              "      <td>34429</td>\n",
              "      <td>60</td>\n",
              "      <td>5785643</td>\n",
              "      <td>33233</td>\n",
              "      <td>125</td>\n",
              "      <td>150</td>\n",
              "      <td>33233</td>\n",
              "      <td>117</td>\n",
              "      <td>144</td>\n",
              "      <td>5975375</td>\n",
              "      <td>29919</td>\n",
              "      <td>427</td>\n",
              "      <td>POLYGON ((382750.000 6697750.000, 382500.000 6...</td>\n",
              "    </tr>\n",
              "    <tr>\n",
              "      <th>4</th>\n",
              "      <td>31872</td>\n",
              "      <td>42</td>\n",
              "      <td>31834</td>\n",
              "      <td>48</td>\n",
              "      <td>5787544</td>\n",
              "      <td>32127</td>\n",
              "      <td>109</td>\n",
              "      <td>126</td>\n",
              "      <td>32127</td>\n",
              "      <td>101</td>\n",
              "      <td>121</td>\n",
              "      <td>5975375</td>\n",
              "      <td>31674</td>\n",
              "      <td>452</td>\n",
              "      <td>POLYGON ((381250.000 6697500.000, 381000.000 6...</td>\n",
              "    </tr>\n",
              "  </tbody>\n",
              "</table>\n",
              "</div>\n",
              "      <button class=\"colab-df-convert\" onclick=\"convertToInteractive('df-e46ba6f0-8a9c-4306-82a1-a50f481958f7')\"\n",
              "              title=\"Convert this dataframe to an interactive table.\"\n",
              "              style=\"display:none;\">\n",
              "        \n",
              "  <svg xmlns=\"http://www.w3.org/2000/svg\" height=\"24px\"viewBox=\"0 0 24 24\"\n",
              "       width=\"24px\">\n",
              "    <path d=\"M0 0h24v24H0V0z\" fill=\"none\"/>\n",
              "    <path d=\"M18.56 5.44l.94 2.06.94-2.06 2.06-.94-2.06-.94-.94-2.06-.94 2.06-2.06.94zm-11 1L8.5 8.5l.94-2.06 2.06-.94-2.06-.94L8.5 2.5l-.94 2.06-2.06.94zm10 10l.94 2.06.94-2.06 2.06-.94-2.06-.94-.94-2.06-.94 2.06-2.06.94z\"/><path d=\"M17.41 7.96l-1.37-1.37c-.4-.4-.92-.59-1.43-.59-.52 0-1.04.2-1.43.59L10.3 9.45l-7.72 7.72c-.78.78-.78 2.05 0 2.83L4 21.41c.39.39.9.59 1.41.59.51 0 1.02-.2 1.41-.59l7.78-7.78 2.81-2.81c.8-.78.8-2.07 0-2.86zM5.41 20L4 18.59l7.72-7.72 1.47 1.35L5.41 20z\"/>\n",
              "  </svg>\n",
              "      </button>\n",
              "      \n",
              "  <style>\n",
              "    .colab-df-container {\n",
              "      display:flex;\n",
              "      flex-wrap:wrap;\n",
              "      gap: 12px;\n",
              "    }\n",
              "\n",
              "    .colab-df-convert {\n",
              "      background-color: #E8F0FE;\n",
              "      border: none;\n",
              "      border-radius: 50%;\n",
              "      cursor: pointer;\n",
              "      display: none;\n",
              "      fill: #1967D2;\n",
              "      height: 32px;\n",
              "      padding: 0 0 0 0;\n",
              "      width: 32px;\n",
              "    }\n",
              "\n",
              "    .colab-df-convert:hover {\n",
              "      background-color: #E2EBFA;\n",
              "      box-shadow: 0px 1px 2px rgba(60, 64, 67, 0.3), 0px 1px 3px 1px rgba(60, 64, 67, 0.15);\n",
              "      fill: #174EA6;\n",
              "    }\n",
              "\n",
              "    [theme=dark] .colab-df-convert {\n",
              "      background-color: #3B4455;\n",
              "      fill: #D2E3FC;\n",
              "    }\n",
              "\n",
              "    [theme=dark] .colab-df-convert:hover {\n",
              "      background-color: #434B5C;\n",
              "      box-shadow: 0px 1px 3px 1px rgba(0, 0, 0, 0.15);\n",
              "      filter: drop-shadow(0px 1px 2px rgba(0, 0, 0, 0.3));\n",
              "      fill: #FFFFFF;\n",
              "    }\n",
              "  </style>\n",
              "\n",
              "      <script>\n",
              "        const buttonEl =\n",
              "          document.querySelector('#df-e46ba6f0-8a9c-4306-82a1-a50f481958f7 button.colab-df-convert');\n",
              "        buttonEl.style.display =\n",
              "          google.colab.kernel.accessAllowed ? 'block' : 'none';\n",
              "\n",
              "        async function convertToInteractive(key) {\n",
              "          const element = document.querySelector('#df-e46ba6f0-8a9c-4306-82a1-a50f481958f7');\n",
              "          const dataTable =\n",
              "            await google.colab.kernel.invokeFunction('convertToInteractive',\n",
              "                                                     [key], {});\n",
              "          if (!dataTable) return;\n",
              "\n",
              "          const docLinkHtml = 'Like what you see? Visit the ' +\n",
              "            '<a target=\"_blank\" href=https://colab.research.google.com/notebooks/data_table.ipynb>data table notebook</a>'\n",
              "            + ' to learn more about interactive tables.';\n",
              "          element.innerHTML = '';\n",
              "          dataTable['output_type'] = 'display_data';\n",
              "          await google.colab.output.renderOutput(dataTable, element);\n",
              "          const docLink = document.createElement('div');\n",
              "          docLink.innerHTML = docLinkHtml;\n",
              "          element.appendChild(docLink);\n",
              "        }\n",
              "      </script>\n",
              "    </div>\n",
              "  </div>\n",
              "  "
            ]
          },
          "metadata": {},
          "execution_count": 8
        }
      ]
    },
    {
      "cell_type": "code",
      "source": [
        "dados=dados[dados['pt_r_tt']>=0]"
      ],
      "metadata": {
        "id": "kAf6JmBRDUKt"
      },
      "execution_count": null,
      "outputs": []
    },
    {
      "cell_type": "code",
      "source": [
        "!pip install mapclassify==2.4.3 -q"
      ],
      "metadata": {
        "id": "ulgtrOXREevb"
      },
      "execution_count": null,
      "outputs": []
    },
    {
      "cell_type": "code",
      "source": [
        "import matplotlib.pyplot as plt\n",
        "dados.plot(column='pt_r_tt', scheme='Fisher_Jenks', k=9, cmap='RdYlBu_r', linewidth=0, legend=True)"
      ],
      "metadata": {
        "colab": {
          "base_uri": "https://localhost:8080/",
          "height": 293
        },
        "id": "bo733KQEEkTk",
        "outputId": "63b9b9f2-7653-4f2e-bacb-32fa7eaccadf"
      },
      "execution_count": null,
      "outputs": [
        {
          "output_type": "execute_result",
          "data": {
            "text/plain": [
              "<matplotlib.axes._subplots.AxesSubplot at 0x7f1075ded490>"
            ]
          },
          "metadata": {},
          "execution_count": 11
        },
        {
          "output_type": "display_data",
          "data": {
            "text/plain": [
              "<Figure size 432x288 with 1 Axes>"
            ],
            "image/png": "[encoded data removed]"
          },
          "metadata": {
            "needs_background": "light"
          }
        }
      ]
    },
    {
      "cell_type": "code",
      "source": [
        "dados.plot(column='pt_r_tt', scheme='Fisher_Jenks', k=9, cmap='RdYlBu_r', linewidth=0, legend=True, legend_kwds={'bbox_to_anchor':(1.15,0.82,0.3,0.2)})"
      ],
      "metadata": {
        "colab": {
          "base_uri": "https://localhost:8080/",
          "height": 293
        },
        "id": "JSNw7PXiFdft",
        "outputId": "7c25cb41-fa65-4349-9e3c-b59bc58445c9"
      },
      "execution_count": null,
      "outputs": [
        {
          "output_type": "execute_result",
          "data": {
            "text/plain": [
              "<matplotlib.axes._subplots.AxesSubplot at 0x7f1075273650>"
            ]
          },
          "metadata": {},
          "execution_count": 12
        },
        {
          "output_type": "display_data",
          "data": {
            "text/plain": [
              "<Figure size 432x288 with 1 Axes>"
            ],
            "image/png": "[encoded data removed]"
          },
          "metadata": {
            "needs_background": "light"
          }
        }
      ]
    },
    {
      "cell_type": "code",
      "source": [
        "dados=dados[dados['walk_d']>=0]"
      ],
      "metadata": {
        "id": "24d6BWK-GoxR"
      },
      "execution_count": null,
      "outputs": []
    },
    {
      "cell_type": "code",
      "source": [
        "dados.plot(column='walk_d', scheme='Fisher_Jenks', k=9, cmap='RdYlBu_r', linewidth=0, legend=True, legend_kwds={'bbox_to_anchor':(1.55,1.01)})"
      ],
      "metadata": {
        "colab": {
          "base_uri": "https://localhost:8080/",
          "height": 293
        },
        "id": "k_JROAJsGz4T",
        "outputId": "d00c1757-fb70-4ceb-8782-5f9e589ac586"
      },
      "execution_count": null,
      "outputs": [
        {
          "output_type": "execute_result",
          "data": {
            "text/plain": [
              "<matplotlib.axes._subplots.AxesSubplot at 0x7f1075204610>"
            ]
          },
          "metadata": {},
          "execution_count": 15
        },
        {
          "output_type": "display_data",
          "data": {
            "text/plain": [
              "<Figure size 432x288 with 1 Axes>"
            ],
            "image/png": "[encoded data removed]"
          },
          "metadata": {
            "needs_background": "light"
          }
        }
      ]
    },
    {
      "cell_type": "code",
      "source": [
        "!pip install pysal -q"
      ],
      "metadata": {
        "colab": {
          "base_uri": "https://localhost:8080/"
        },
        "id": "n-5s4sj9HjMI",
        "outputId": "85ef4ae7-4139-47ff-8b23-fdd72765221b"
      },
      "execution_count": null,
      "outputs": [
        {
          "output_type": "stream",
          "name": "stdout",
          "text": [
            "\u001b[K     |████████████████████████████████| 5.7 MB 8.1 MB/s \n",
            "\u001b[K     |████████████████████████████████| 55 kB 3.4 MB/s \n",
            "\u001b[K     |████████████████████████████████| 243 kB 52.9 MB/s \n",
            "\u001b[K     |████████████████████████████████| 84 kB 3.6 MB/s \n",
            "\u001b[K     |████████████████████████████████| 2.4 MB 53.3 MB/s \n",
            "\u001b[K     |████████████████████████████████| 209 kB 49.8 MB/s \n",
            "\u001b[K     |████████████████████████████████| 116 kB 51.2 MB/s \n",
            "\u001b[K     |████████████████████████████████| 147 kB 46.2 MB/s \n",
            "\u001b[K     |████████████████████████████████| 41 kB 640 kB/s \n",
            "\u001b[K     |████████████████████████████████| 60 kB 6.4 MB/s \n",
            "\u001b[K     |████████████████████████████████| 46 kB 3.5 MB/s \n",
            "\u001b[K     |████████████████████████████████| 179 kB 40.0 MB/s \n",
            "\u001b[K     |████████████████████████████████| 2.1 MB 32.2 MB/s \n",
            "\u001b[K     |████████████████████████████████| 78 kB 6.4 MB/s \n",
            "\u001b[K     |████████████████████████████████| 183 kB 52.3 MB/s \n",
            "\u001b[K     |████████████████████████████████| 1.0 MB 36.6 MB/s \n",
            "\u001b[K     |████████████████████████████████| 14.2 MB 43.0 MB/s \n",
            "\u001b[K     |████████████████████████████████| 19.3 MB 83.0 MB/s \n",
            "\u001b[K     |████████████████████████████████| 132 kB 37.9 MB/s \n",
            "\u001b[K     |████████████████████████████████| 9.1 MB 45.0 MB/s \n",
            "\u001b[K     |████████████████████████████████| 79 kB 7.8 MB/s \n",
            "\u001b[K     |████████████████████████████████| 127 kB 58.8 MB/s \n",
            "\u001b[K     |████████████████████████████████| 130 kB 67.8 MB/s \n",
            "\u001b[?25h  Building wheel for esda (setup.py) ... \u001b[?25l\u001b[?25hdone\n",
            "  Building wheel for inequality (setup.py) ... \u001b[?25l\u001b[?25hdone\n",
            "  Building wheel for mgwr (setup.py) ... \u001b[?25l\u001b[?25hdone\n",
            "  Building wheel for pointpats (setup.py) ... \u001b[?25l\u001b[?25hdone\n",
            "  Building wheel for rvlib (setup.py) ... \u001b[?25l\u001b[?25hdone\n",
            "  Building wheel for spglm (setup.py) ... \u001b[?25l\u001b[?25hdone\n",
            "  Building wheel for spint (setup.py) ... \u001b[?25l\u001b[?25hdone\n",
            "  Building wheel for spvcm (setup.py) ... \u001b[?25l\u001b[?25hdone\n"
          ]
        }
      ]
    },
    {
      "cell_type": "code",
      "source": [
        "import pysal as ps\n",
        "import mapclassify as mpc"
      ],
      "metadata": {
        "id": "9K0MYrwUIGrL"
      },
      "execution_count": null,
      "outputs": []
    },
    {
      "cell_type": "code",
      "source": [
        "#Verificar a possibilidade de usar seed\n",
        "import numpy as np\n",
        "np.random.seed(123456)\n",
        "classificador=mpc.NaturalBreaks(dados['pt_r_tt'], k=9)\n",
        "classificador"
      ],
      "metadata": {
        "colab": {
          "base_uri": "https://localhost:8080/"
        },
        "id": "QiG_9tgsIdqL",
        "outputId": "37512b34-63fd-4810-8aa5-f9a328e5a7a8"
      },
      "execution_count": null,
      "outputs": [
        {
          "output_type": "execute_result",
          "data": {
            "text/plain": [
              "NaturalBreaks           \n",
              "\n",
              "    Interval       Count\n",
              "------------------------\n",
              "[  0.00,  28.00] |   650\n",
              "( 28.00,  41.00] |  2024\n",
              "( 41.00,  52.00] |  2576\n",
              "( 52.00,  64.00] |  2324\n",
              "( 64.00,  77.00] |  1820\n",
              "( 77.00,  90.00] |  1590\n",
              "( 90.00, 104.00] |  1001\n",
              "(104.00, 126.00] |   786\n",
              "(126.00, 199.00] |   222"
            ]
          },
          "metadata": {},
          "execution_count": 18
        }
      ]
    },
    {
      "cell_type": "code",
      "source": [
        "classificacao=dados[['pt_r_tt']].apply(classificador)\n",
        "classificacao.head()"
      ],
      "metadata": {
        "colab": {
          "base_uri": "https://localhost:8080/",
          "height": 206
        },
        "id": "0a7Kmwm7I1Fr",
        "outputId": "04b901cd-9b14-4de4-d3dc-276ac1c01bbc"
      },
      "execution_count": null,
      "outputs": [
        {
          "output_type": "execute_result",
          "data": {
            "text/plain": [
              "   pt_r_tt\n",
              "0        8\n",
              "1        8\n",
              "2        8\n",
              "3        8\n",
              "4        7"
            ],
            "text/html": [
              "\n",
              "  <div id=\"df-9d6597fb-aea6-45a5-87a3-c570c2092a5a\">\n",
              "    <div class=\"colab-df-container\">\n",
              "      <div>\n",
              "<style scoped>\n",
              "    .dataframe tbody tr th:only-of-type {\n",
              "        vertical-align: middle;\n",
              "    }\n",
              "\n",
              "    .dataframe tbody tr th {\n",
              "        vertical-align: top;\n",
              "    }\n",
              "\n",
              "    .dataframe thead th {\n",
              "        text-align: right;\n",
              "    }\n",
              "</style>\n",
              "<table border=\"1\" class=\"dataframe\">\n",
              "  <thead>\n",
              "    <tr style=\"text-align: right;\">\n",
              "      <th></th>\n",
              "      <th>pt_r_tt</th>\n",
              "    </tr>\n",
              "  </thead>\n",
              "  <tbody>\n",
              "    <tr>\n",
              "      <th>0</th>\n",
              "      <td>8</td>\n",
              "    </tr>\n",
              "    <tr>\n",
              "      <th>1</th>\n",
              "      <td>8</td>\n",
              "    </tr>\n",
              "    <tr>\n",
              "      <th>2</th>\n",
              "      <td>8</td>\n",
              "    </tr>\n",
              "    <tr>\n",
              "      <th>3</th>\n",
              "      <td>8</td>\n",
              "    </tr>\n",
              "    <tr>\n",
              "      <th>4</th>\n",
              "      <td>7</td>\n",
              "    </tr>\n",
              "  </tbody>\n",
              "</table>\n",
              "</div>\n",
              "      <button class=\"colab-df-convert\" onclick=\"convertToInteractive('df-9d6597fb-aea6-45a5-87a3-c570c2092a5a')\"\n",
              "              title=\"Convert this dataframe to an interactive table.\"\n",
              "              style=\"display:none;\">\n",
              "        \n",
              "  <svg xmlns=\"http://www.w3.org/2000/svg\" height=\"24px\"viewBox=\"0 0 24 24\"\n",
              "       width=\"24px\">\n",
              "    <path d=\"M0 0h24v24H0V0z\" fill=\"none\"/>\n",
              "    <path d=\"M18.56 5.44l.94 2.06.94-2.06 2.06-.94-2.06-.94-.94-2.06-.94 2.06-2.06.94zm-11 1L8.5 8.5l.94-2.06 2.06-.94-2.06-.94L8.5 2.5l-.94 2.06-2.06.94zm10 10l.94 2.06.94-2.06 2.06-.94-2.06-.94-.94-2.06-.94 2.06-2.06.94z\"/><path d=\"M17.41 7.96l-1.37-1.37c-.4-.4-.92-.59-1.43-.59-.52 0-1.04.2-1.43.59L10.3 9.45l-7.72 7.72c-.78.78-.78 2.05 0 2.83L4 21.41c.39.39.9.59 1.41.59.51 0 1.02-.2 1.41-.59l7.78-7.78 2.81-2.81c.8-.78.8-2.07 0-2.86zM5.41 20L4 18.59l7.72-7.72 1.47 1.35L5.41 20z\"/>\n",
              "  </svg>\n",
              "      </button>\n",
              "      \n",
              "  <style>\n",
              "    .colab-df-container {\n",
              "      display:flex;\n",
              "      flex-wrap:wrap;\n",
              "      gap: 12px;\n",
              "    }\n",
              "\n",
              "    .colab-df-convert {\n",
              "      background-color: #E8F0FE;\n",
              "      border: none;\n",
              "      border-radius: 50%;\n",
              "      cursor: pointer;\n",
              "      display: none;\n",
              "      fill: #1967D2;\n",
              "      height: 32px;\n",
              "      padding: 0 0 0 0;\n",
              "      width: 32px;\n",
              "    }\n",
              "\n",
              "    .colab-df-convert:hover {\n",
              "      background-color: #E2EBFA;\n",
              "      box-shadow: 0px 1px 2px rgba(60, 64, 67, 0.3), 0px 1px 3px 1px rgba(60, 64, 67, 0.15);\n",
              "      fill: #174EA6;\n",
              "    }\n",
              "\n",
              "    [theme=dark] .colab-df-convert {\n",
              "      background-color: #3B4455;\n",
              "      fill: #D2E3FC;\n",
              "    }\n",
              "\n",
              "    [theme=dark] .colab-df-convert:hover {\n",
              "      background-color: #434B5C;\n",
              "      box-shadow: 0px 1px 3px 1px rgba(0, 0, 0, 0.15);\n",
              "      filter: drop-shadow(0px 1px 2px rgba(0, 0, 0, 0.3));\n",
              "      fill: #FFFFFF;\n",
              "    }\n",
              "  </style>\n",
              "\n",
              "      <script>\n",
              "        const buttonEl =\n",
              "          document.querySelector('#df-9d6597fb-aea6-45a5-87a3-c570c2092a5a button.colab-df-convert');\n",
              "        buttonEl.style.display =\n",
              "          google.colab.kernel.accessAllowed ? 'block' : 'none';\n",
              "\n",
              "        async function convertToInteractive(key) {\n",
              "          const element = document.querySelector('#df-9d6597fb-aea6-45a5-87a3-c570c2092a5a');\n",
              "          const dataTable =\n",
              "            await google.colab.kernel.invokeFunction('convertToInteractive',\n",
              "                                                     [key], {});\n",
              "          if (!dataTable) return;\n",
              "\n",
              "          const docLinkHtml = 'Like what you see? Visit the ' +\n",
              "            '<a target=\"_blank\" href=https://colab.research.google.com/notebooks/data_table.ipynb>data table notebook</a>'\n",
              "            + ' to learn more about interactive tables.';\n",
              "          element.innerHTML = '';\n",
              "          dataTable['output_type'] = 'display_data';\n",
              "          await google.colab.output.renderOutput(dataTable, element);\n",
              "          const docLink = document.createElement('div');\n",
              "          docLink.innerHTML = docLinkHtml;\n",
              "          element.appendChild(docLink);\n",
              "        }\n",
              "      </script>\n",
              "    </div>\n",
              "  </div>\n",
              "  "
            ]
          },
          "metadata": {},
          "execution_count": 20
        }
      ]
    },
    {
      "cell_type": "code",
      "source": [
        "classificacao.columns=['nb_pt_r_tt']\n",
        "classificacao.head()"
      ],
      "metadata": {
        "colab": {
          "base_uri": "https://localhost:8080/",
          "height": 206
        },
        "id": "iJsPkj88JBTU",
        "outputId": "656dcfa1-b1b4-44d8-b235-22a578a402f4"
      },
      "execution_count": null,
      "outputs": [
        {
          "output_type": "execute_result",
          "data": {
            "text/plain": [
              "   nb_pt_r_tt\n",
              "0           8\n",
              "1           8\n",
              "2           8\n",
              "3           8\n",
              "4           7"
            ],
            "text/html": [
              "\n",
              "  <div id=\"df-7883a398-b044-4844-aca8-d0d2da8b214f\">\n",
              "    <div class=\"colab-df-container\">\n",
              "      <div>\n",
              "<style scoped>\n",
              "    .dataframe tbody tr th:only-of-type {\n",
              "        vertical-align: middle;\n",
              "    }\n",
              "\n",
              "    .dataframe tbody tr th {\n",
              "        vertical-align: top;\n",
              "    }\n",
              "\n",
              "    .dataframe thead th {\n",
              "        text-align: right;\n",
              "    }\n",
              "</style>\n",
              "<table border=\"1\" class=\"dataframe\">\n",
              "  <thead>\n",
              "    <tr style=\"text-align: right;\">\n",
              "      <th></th>\n",
              "      <th>nb_pt_r_tt</th>\n",
              "    </tr>\n",
              "  </thead>\n",
              "  <tbody>\n",
              "    <tr>\n",
              "      <th>0</th>\n",
              "      <td>8</td>\n",
              "    </tr>\n",
              "    <tr>\n",
              "      <th>1</th>\n",
              "      <td>8</td>\n",
              "    </tr>\n",
              "    <tr>\n",
              "      <th>2</th>\n",
              "      <td>8</td>\n",
              "    </tr>\n",
              "    <tr>\n",
              "      <th>3</th>\n",
              "      <td>8</td>\n",
              "    </tr>\n",
              "    <tr>\n",
              "      <th>4</th>\n",
              "      <td>7</td>\n",
              "    </tr>\n",
              "  </tbody>\n",
              "</table>\n",
              "</div>\n",
              "      <button class=\"colab-df-convert\" onclick=\"convertToInteractive('df-7883a398-b044-4844-aca8-d0d2da8b214f')\"\n",
              "              title=\"Convert this dataframe to an interactive table.\"\n",
              "              style=\"display:none;\">\n",
              "        \n",
              "  <svg xmlns=\"http://www.w3.org/2000/svg\" height=\"24px\"viewBox=\"0 0 24 24\"\n",
              "       width=\"24px\">\n",
              "    <path d=\"M0 0h24v24H0V0z\" fill=\"none\"/>\n",
              "    <path d=\"M18.56 5.44l.94 2.06.94-2.06 2.06-.94-2.06-.94-.94-2.06-.94 2.06-2.06.94zm-11 1L8.5 8.5l.94-2.06 2.06-.94-2.06-.94L8.5 2.5l-.94 2.06-2.06.94zm10 10l.94 2.06.94-2.06 2.06-.94-2.06-.94-.94-2.06-.94 2.06-2.06.94z\"/><path d=\"M17.41 7.96l-1.37-1.37c-.4-.4-.92-.59-1.43-.59-.52 0-1.04.2-1.43.59L10.3 9.45l-7.72 7.72c-.78.78-.78 2.05 0 2.83L4 21.41c.39.39.9.59 1.41.59.51 0 1.02-.2 1.41-.59l7.78-7.78 2.81-2.81c.8-.78.8-2.07 0-2.86zM5.41 20L4 18.59l7.72-7.72 1.47 1.35L5.41 20z\"/>\n",
              "  </svg>\n",
              "      </button>\n",
              "      \n",
              "  <style>\n",
              "    .colab-df-container {\n",
              "      display:flex;\n",
              "      flex-wrap:wrap;\n",
              "      gap: 12px;\n",
              "    }\n",
              "\n",
              "    .colab-df-convert {\n",
              "      background-color: #E8F0FE;\n",
              "      border: none;\n",
              "      border-radius: 50%;\n",
              "      cursor: pointer;\n",
              "      display: none;\n",
              "      fill: #1967D2;\n",
              "      height: 32px;\n",
              "      padding: 0 0 0 0;\n",
              "      width: 32px;\n",
              "    }\n",
              "\n",
              "    .colab-df-convert:hover {\n",
              "      background-color: #E2EBFA;\n",
              "      box-shadow: 0px 1px 2px rgba(60, 64, 67, 0.3), 0px 1px 3px 1px rgba(60, 64, 67, 0.15);\n",
              "      fill: #174EA6;\n",
              "    }\n",
              "\n",
              "    [theme=dark] .colab-df-convert {\n",
              "      background-color: #3B4455;\n",
              "      fill: #D2E3FC;\n",
              "    }\n",
              "\n",
              "    [theme=dark] .colab-df-convert:hover {\n",
              "      background-color: #434B5C;\n",
              "      box-shadow: 0px 1px 3px 1px rgba(0, 0, 0, 0.15);\n",
              "      filter: drop-shadow(0px 1px 2px rgba(0, 0, 0, 0.3));\n",
              "      fill: #FFFFFF;\n",
              "    }\n",
              "  </style>\n",
              "\n",
              "      <script>\n",
              "        const buttonEl =\n",
              "          document.querySelector('#df-7883a398-b044-4844-aca8-d0d2da8b214f button.colab-df-convert');\n",
              "        buttonEl.style.display =\n",
              "          google.colab.kernel.accessAllowed ? 'block' : 'none';\n",
              "\n",
              "        async function convertToInteractive(key) {\n",
              "          const element = document.querySelector('#df-7883a398-b044-4844-aca8-d0d2da8b214f');\n",
              "          const dataTable =\n",
              "            await google.colab.kernel.invokeFunction('convertToInteractive',\n",
              "                                                     [key], {});\n",
              "          if (!dataTable) return;\n",
              "\n",
              "          const docLinkHtml = 'Like what you see? Visit the ' +\n",
              "            '<a target=\"_blank\" href=https://colab.research.google.com/notebooks/data_table.ipynb>data table notebook</a>'\n",
              "            + ' to learn more about interactive tables.';\n",
              "          element.innerHTML = '';\n",
              "          dataTable['output_type'] = 'display_data';\n",
              "          await google.colab.output.renderOutput(dataTable, element);\n",
              "          const docLink = document.createElement('div');\n",
              "          docLink.innerHTML = docLinkHtml;\n",
              "          element.appendChild(docLink);\n",
              "        }\n",
              "      </script>\n",
              "    </div>\n",
              "  </div>\n",
              "  "
            ]
          },
          "metadata": {},
          "execution_count": 25
        }
      ]
    },
    {
      "cell_type": "code",
      "source": [
        "dados=dados.join(classificacao)\n",
        "dados.head()"
      ],
      "metadata": {
        "colab": {
          "base_uri": "https://localhost:8080/",
          "height": 617
        },
        "id": "Pq3OGMt2JqlC",
        "outputId": "fd6baca0-0346-48c0-c7ea-3ead6cf81d8f"
      },
      "execution_count": null,
      "outputs": [
        {
          "output_type": "execute_result",
          "data": {
            "text/plain": [
              "   car_m_d  car_m_t  car_r_d  car_r_t  from_id  pt_m_d  pt_m_t  pt_m_tt  \\\n",
              "0    32297       43    32260       48  5785640   32616     116      147   \n",
              "1    32508       43    32471       49  5785641   32822     119      145   \n",
              "2    30133       50    31872       56  5785642   32940     121      146   \n",
              "3    32690       54    34429       60  5785643   33233     125      150   \n",
              "4    31872       42    31834       48  5787544   32127     109      126   \n",
              "\n",
              "   pt_r_d  pt_r_t  pt_r_tt    to_id  walk_d  walk_t  \\\n",
              "0   32616     108      139  5975375   32164     459   \n",
              "1   32822     111      133  5975375   29547     422   \n",
              "2   32940     113      133  5975375   29626     423   \n",
              "3   33233     117      144  5975375   29919     427   \n",
              "4   32127     101      121  5975375   31674     452   \n",
              "\n",
              "                                            geometry  nb_pt_r_tt  \n",
              "0  POLYGON ((382000.000 6697750.000, 381750.000 6...           8  \n",
              "1  POLYGON ((382250.000 6697750.000, 382000.000 6...           8  \n",
              "2  POLYGON ((382500.000 6697750.000, 382250.000 6...           8  \n",
              "3  POLYGON ((382750.000 6697750.000, 382500.000 6...           8  \n",
              "4  POLYGON ((381250.000 6697500.000, 381000.000 6...           7  "
            ],
            "text/html": [
              "\n",
              "  <div id=\"df-2654b9af-fdeb-4327-8893-c4e376123587\">\n",
              "    <div class=\"colab-df-container\">\n",
              "      <div>\n",
              "<style scoped>\n",
              "    .dataframe tbody tr th:only-of-type {\n",
              "        vertical-align: middle;\n",
              "    }\n",
              "\n",
              "    .dataframe tbody tr th {\n",
              "        vertical-align: top;\n",
              "    }\n",
              "\n",
              "    .dataframe thead th {\n",
              "        text-align: right;\n",
              "    }\n",
              "</style>\n",
              "<table border=\"1\" class=\"dataframe\">\n",
              "  <thead>\n",
              "    <tr style=\"text-align: right;\">\n",
              "      <th></th>\n",
              "      <th>car_m_d</th>\n",
              "      <th>car_m_t</th>\n",
              "      <th>car_r_d</th>\n",
              "      <th>car_r_t</th>\n",
              "      <th>from_id</th>\n",
              "      <th>pt_m_d</th>\n",
              "      <th>pt_m_t</th>\n",
              "      <th>pt_m_tt</th>\n",
              "      <th>pt_r_d</th>\n",
              "      <th>pt_r_t</th>\n",
              "      <th>pt_r_tt</th>\n",
              "      <th>to_id</th>\n",
              "      <th>walk_d</th>\n",
              "      <th>walk_t</th>\n",
              "      <th>geometry</th>\n",
              "      <th>nb_pt_r_tt</th>\n",
              "    </tr>\n",
              "  </thead>\n",
              "  <tbody>\n",
              "    <tr>\n",
              "      <th>0</th>\n",
              "      <td>32297</td>\n",
              "      <td>43</td>\n",
              "      <td>32260</td>\n",
              "      <td>48</td>\n",
              "      <td>5785640</td>\n",
              "      <td>32616</td>\n",
              "      <td>116</td>\n",
              "      <td>147</td>\n",
              "      <td>32616</td>\n",
              "      <td>108</td>\n",
              "      <td>139</td>\n",
              "      <td>5975375</td>\n",
              "      <td>32164</td>\n",
              "      <td>459</td>\n",
              "      <td>POLYGON ((382000.000 6697750.000, 381750.000 6...</td>\n",
              "      <td>8</td>\n",
              "    </tr>\n",
              "    <tr>\n",
              "      <th>1</th>\n",
              "      <td>32508</td>\n",
              "      <td>43</td>\n",
              "      <td>32471</td>\n",
              "      <td>49</td>\n",
              "      <td>5785641</td>\n",
              "      <td>32822</td>\n",
              "      <td>119</td>\n",
              "      <td>145</td>\n",
              "      <td>32822</td>\n",
              "      <td>111</td>\n",
              "      <td>133</td>\n",
              "      <td>5975375</td>\n",
              "      <td>29547</td>\n",
              "      <td>422</td>\n",
              "      <td>POLYGON ((382250.000 6697750.000, 382000.000 6...</td>\n",
              "      <td>8</td>\n",
              "    </tr>\n",
              "    <tr>\n",
              "      <th>2</th>\n",
              "      <td>30133</td>\n",
              "      <td>50</td>\n",
              "      <td>31872</td>\n",
              "      <td>56</td>\n",
              "      <td>5785642</td>\n",
              "      <td>32940</td>\n",
              "      <td>121</td>\n",
              "      <td>146</td>\n",
              "      <td>32940</td>\n",
              "      <td>113</td>\n",
              "      <td>133</td>\n",
              "      <td>5975375</td>\n",
              "      <td>29626</td>\n",
              "      <td>423</td>\n",
              "      <td>POLYGON ((382500.000 6697750.000, 382250.000 6...</td>\n",
              "      <td>8</td>\n",
              "    </tr>\n",
              "    <tr>\n",
              "      <th>3</th>\n",
              "      <td>32690</td>\n",
              "      <td>54</td>\n",
              "      <td>34429</td>\n",
              "      <td>60</td>\n",
              "      <td>5785643</td>\n",
              "      <td>33233</td>\n",
              "      <td>125</td>\n",
              "      <td>150</td>\n",
              "      <td>33233</td>\n",
              "      <td>117</td>\n",
              "      <td>144</td>\n",
              "      <td>5975375</td>\n",
              "      <td>29919</td>\n",
              "      <td>427</td>\n",
              "      <td>POLYGON ((382750.000 6697750.000, 382500.000 6...</td>\n",
              "      <td>8</td>\n",
              "    </tr>\n",
              "    <tr>\n",
              "      <th>4</th>\n",
              "      <td>31872</td>\n",
              "      <td>42</td>\n",
              "      <td>31834</td>\n",
              "      <td>48</td>\n",
              "      <td>5787544</td>\n",
              "      <td>32127</td>\n",
              "      <td>109</td>\n",
              "      <td>126</td>\n",
              "      <td>32127</td>\n",
              "      <td>101</td>\n",
              "      <td>121</td>\n",
              "      <td>5975375</td>\n",
              "      <td>31674</td>\n",
              "      <td>452</td>\n",
              "      <td>POLYGON ((381250.000 6697500.000, 381000.000 6...</td>\n",
              "      <td>7</td>\n",
              "    </tr>\n",
              "  </tbody>\n",
              "</table>\n",
              "</div>\n",
              "      <button class=\"colab-df-convert\" onclick=\"convertToInteractive('df-2654b9af-fdeb-4327-8893-c4e376123587')\"\n",
              "              title=\"Convert this dataframe to an interactive table.\"\n",
              "              style=\"display:none;\">\n",
              "        \n",
              "  <svg xmlns=\"http://www.w3.org/2000/svg\" height=\"24px\"viewBox=\"0 0 24 24\"\n",
              "       width=\"24px\">\n",
              "    <path d=\"M0 0h24v24H0V0z\" fill=\"none\"/>\n",
              "    <path d=\"M18.56 5.44l.94 2.06.94-2.06 2.06-.94-2.06-.94-.94-2.06-.94 2.06-2.06.94zm-11 1L8.5 8.5l.94-2.06 2.06-.94-2.06-.94L8.5 2.5l-.94 2.06-2.06.94zm10 10l.94 2.06.94-2.06 2.06-.94-2.06-.94-.94-2.06-.94 2.06-2.06.94z\"/><path d=\"M17.41 7.96l-1.37-1.37c-.4-.4-.92-.59-1.43-.59-.52 0-1.04.2-1.43.59L10.3 9.45l-7.72 7.72c-.78.78-.78 2.05 0 2.83L4 21.41c.39.39.9.59 1.41.59.51 0 1.02-.2 1.41-.59l7.78-7.78 2.81-2.81c.8-.78.8-2.07 0-2.86zM5.41 20L4 18.59l7.72-7.72 1.47 1.35L5.41 20z\"/>\n",
              "  </svg>\n",
              "      </button>\n",
              "      \n",
              "  <style>\n",
              "    .colab-df-container {\n",
              "      display:flex;\n",
              "      flex-wrap:wrap;\n",
              "      gap: 12px;\n",
              "    }\n",
              "\n",
              "    .colab-df-convert {\n",
              "      background-color: #E8F0FE;\n",
              "      border: none;\n",
              "      border-radius: 50%;\n",
              "      cursor: pointer;\n",
              "      display: none;\n",
              "      fill: #1967D2;\n",
              "      height: 32px;\n",
              "      padding: 0 0 0 0;\n",
              "      width: 32px;\n",
              "    }\n",
              "\n",
              "    .colab-df-convert:hover {\n",
              "      background-color: #E2EBFA;\n",
              "      box-shadow: 0px 1px 2px rgba(60, 64, 67, 0.3), 0px 1px 3px 1px rgba(60, 64, 67, 0.15);\n",
              "      fill: #174EA6;\n",
              "    }\n",
              "\n",
              "    [theme=dark] .colab-df-convert {\n",
              "      background-color: #3B4455;\n",
              "      fill: #D2E3FC;\n",
              "    }\n",
              "\n",
              "    [theme=dark] .colab-df-convert:hover {\n",
              "      background-color: #434B5C;\n",
              "      box-shadow: 0px 1px 3px 1px rgba(0, 0, 0, 0.15);\n",
              "      filter: drop-shadow(0px 1px 2px rgba(0, 0, 0, 0.3));\n",
              "      fill: #FFFFFF;\n",
              "    }\n",
              "  </style>\n",
              "\n",
              "      <script>\n",
              "        const buttonEl =\n",
              "          document.querySelector('#df-2654b9af-fdeb-4327-8893-c4e376123587 button.colab-df-convert');\n",
              "        buttonEl.style.display =\n",
              "          google.colab.kernel.accessAllowed ? 'block' : 'none';\n",
              "\n",
              "        async function convertToInteractive(key) {\n",
              "          const element = document.querySelector('#df-2654b9af-fdeb-4327-8893-c4e376123587');\n",
              "          const dataTable =\n",
              "            await google.colab.kernel.invokeFunction('convertToInteractive',\n",
              "                                                     [key], {});\n",
              "          if (!dataTable) return;\n",
              "\n",
              "          const docLinkHtml = 'Like what you see? Visit the ' +\n",
              "            '<a target=\"_blank\" href=https://colab.research.google.com/notebooks/data_table.ipynb>data table notebook</a>'\n",
              "            + ' to learn more about interactive tables.';\n",
              "          element.innerHTML = '';\n",
              "          dataTable['output_type'] = 'display_data';\n",
              "          await google.colab.output.renderOutput(dataTable, element);\n",
              "          const docLink = document.createElement('div');\n",
              "          docLink.innerHTML = docLinkHtml;\n",
              "          element.appendChild(docLink);\n",
              "        }\n",
              "      </script>\n",
              "    </div>\n",
              "  </div>\n",
              "  "
            ]
          },
          "metadata": {},
          "execution_count": 30
        }
      ]
    },
    {
      "cell_type": "code",
      "source": [
        "dados.plot(column=\"nb_pt_r_tt\", linewidth=0,legend=True)"
      ],
      "metadata": {
        "colab": {
          "base_uri": "https://localhost:8080/",
          "height": 284
        },
        "id": "eBDlRjN8KxiM",
        "outputId": "f746cbb3-0320-467e-db87-eec8c8fa5bc4"
      },
      "execution_count": null,
      "outputs": [
        {
          "output_type": "execute_result",
          "data": {
            "text/plain": [
              "<matplotlib.axes._subplots.AxesSubplot at 0x7f1075455510>"
            ]
          },
          "metadata": {},
          "execution_count": 31
        },
        {
          "output_type": "display_data",
          "data": {
            "text/plain": [
              "<Figure size 432x288 with 2 Axes>"
            ],
            "image/png": "[encoded data removed]"
          },
          "metadata": {
            "needs_background": "light"
          }
        }
      ]
    },
    {
      "cell_type": "code",
      "source": [],
      "metadata": {
        "id": "G6BH7m_7LDx0"
      },
      "execution_count": null,
      "outputs": []
    }
  ]
}