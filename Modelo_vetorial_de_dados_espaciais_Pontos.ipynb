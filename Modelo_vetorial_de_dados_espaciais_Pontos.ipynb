{
  "nbformat": 4,
  "nbformat_minor": 0,
  "metadata": {
    "colab": {
      "provenance": [],
      "collapsed_sections": [
        "57n5Lo53dnhA",
        "ph6eAMF1eJo7",
        "k_UMtYszjuel",
        "6vX-KtFJnGXo"
      ],
      "authorship_tag": "ABX9TyMhWRAQOwJhBj3xPmu1D0Ma",
      "include_colab_link": true
    },
    "kernelspec": {
      "name": "python3",
      "display_name": "Python 3"
    },
    "language_info": {
      "name": "python"
    }
  },
  "cells": [
    {
      "cell_type": "markdown",
      "metadata": {
        "id": "view-in-github",
        "colab_type": "text"
      },
      "source": [
        "<a href=\"https://colab.research.google.com/github/thamyrys-bl/example-geobr/blob/main/Modelo_vetorial_de_dados_espaciais_Pontos.ipynb\" target=\"_parent\"><img src=\"https://colab.research.google.com/assets/colab-badge.svg\" alt=\"Open In Colab\"/></a>"
      ]
    },
    {
      "cell_type": "markdown",
      "source": [
        "## Criando pontos geograficos no Python"
      ],
      "metadata": {
        "id": "57n5Lo53dnhA"
      }
    },
    {
      "cell_type": "code",
      "source": [
        "print(p1)\n",
        "print(p2)\n",
        "print(p3)\n",
        "print(p3d)"
      ],
      "metadata": {
        "colab": {
          "base_uri": "https://localhost:8080/"
        },
        "id": "KH2pfBA-cxPF",
        "outputId": "d666c18e-6e39-4818-cb47-834d3d26d681"
      },
      "execution_count": null,
      "outputs": [
        {
          "output_type": "stream",
          "name": "stdout",
          "text": [
            "POINT (5.4 3)\n",
            "POINT (10 -7)\n",
            "POINT (80 25)\n",
            "POINT Z (80 25 25)\n"
          ]
        }
      ]
    },
    {
      "cell_type": "code",
      "execution_count": null,
      "metadata": {
        "id": "UTRVtm8sbmSB"
      },
      "outputs": [],
      "source": [
        "#Importe da biblioteca shapely os tipos de geometria necessárias\n",
        "from shapely.geometry import Point, LineString, Polygon"
      ]
    },
    {
      "cell_type": "code",
      "source": [
        "#Crie objetos do tipo geometria de Ponto a partir de coordenadas\n",
        "p1= Point(5.4,3.0)\n",
        "p2= Point(10,-7)\n",
        "p3= Point(80,25)\n",
        "p3d=Point(80,25,25)\n"
      ],
      "metadata": {
        "id": "avNyNSqlb-47"
      },
      "execution_count": null,
      "outputs": []
    },
    {
      "cell_type": "markdown",
      "source": [],
      "metadata": {
        "id": "YIcHDtSQdgvU"
      }
    },
    {
      "cell_type": "code",
      "source": [
        "print(type(p1))\n",
        "print(type(p3d))"
      ],
      "metadata": {
        "colab": {
          "base_uri": "https://localhost:8080/"
        },
        "id": "co6BOgFkdHz8",
        "outputId": "3bc43f11-f683-4d97-fa42-4de2e4ed6efd"
      },
      "execution_count": null,
      "outputs": [
        {
          "output_type": "stream",
          "name": "stdout",
          "text": [
            "<class 'shapely.geometry.point.Point'>\n",
            "<class 'shapely.geometry.point.Point'>\n"
          ]
        }
      ]
    },
    {
      "cell_type": "markdown",
      "source": [
        "# Atributos e funções da geometria de ponto"
      ],
      "metadata": {
        "id": "ph6eAMF1eJo7"
      }
    },
    {
      "cell_type": "code",
      "source": [
        "#Armazene as coordenadas do ponto\n",
        "p_coord=p1.coords\n",
        "#coords: é uma propriedade de objetos de shaplin só que nesse caso em ponto. \n",
        "#Sua função é extrair a sequencia de coordenadas do objeto.\n",
        "\n",
        "#Verifique o tipo da variavel p_coord\n",
        "type(p_coord)"
      ],
      "metadata": {
        "colab": {
          "base_uri": "https://localhost:8080/"
        },
        "id": "BXxo4udodUoq",
        "outputId": "f5cd59fb-8c5b-42c9-b0c5-328e8acb0ce7"
      },
      "execution_count": null,
      "outputs": [
        {
          "output_type": "execute_result",
          "data": {
            "text/plain": [
              "shapely.coords.CoordinateSequence"
            ]
          },
          "metadata": {},
          "execution_count": 9
        }
      ]
    },
    {
      "cell_type": "code",
      "source": [
        "# Extraia as coordenadas\n",
        "xy=p_coord.xy"
      ],
      "metadata": {
        "id": "uTv7vOLwevks"
      },
      "execution_count": null,
      "outputs": []
    },
    {
      "cell_type": "code",
      "source": [
        "#Extraia apenas a coordenada x do p1\n",
        "x= p1.x"
      ],
      "metadata": {
        "id": "SrNPX4H4f0-s"
      },
      "execution_count": null,
      "outputs": []
    },
    {
      "cell_type": "code",
      "source": [
        "#Extraia apenas a coordenada y do p1\n",
        "y=p1.y"
      ],
      "metadata": {
        "id": "t05Sb1wwhPDa"
      },
      "execution_count": null,
      "outputs": []
    },
    {
      "cell_type": "code",
      "source": [
        "print(xy)\n",
        "print(x)\n",
        "print(y)"
      ],
      "metadata": {
        "colab": {
          "base_uri": "https://localhost:8080/"
        },
        "id": "0C1uK0nPhXvy",
        "outputId": "8b18572b-f6a3-4d36-f184-deefa11e5f41"
      },
      "execution_count": null,
      "outputs": [
        {
          "output_type": "stream",
          "name": "stdout",
          "text": [
            "(array('d', [5.4]), array('d', [3.0]))\n",
            "5.4\n",
            "3.0\n"
          ]
        }
      ]
    },
    {
      "cell_type": "code",
      "source": [
        "print(xy[0])\n",
        "print(xy[1])"
      ],
      "metadata": {
        "colab": {
          "base_uri": "https://localhost:8080/"
        },
        "id": "-rM2NBmthhkr",
        "outputId": "55c75954-d0ce-4dbc-eb68-4b17267ed65f"
      },
      "execution_count": null,
      "outputs": [
        {
          "output_type": "stream",
          "name": "stdout",
          "text": [
            "array('d', [5.4])\n",
            "array('d', [3.0])\n"
          ]
        }
      ]
    },
    {
      "cell_type": "markdown",
      "source": [
        "#Calculando distancia entre p1 e p2"
      ],
      "metadata": {
        "id": "k_UMtYszjuel"
      }
    },
    {
      "cell_type": "code",
      "source": [
        "p_dist= p1.distance(p2)\n",
        "\n",
        "#Aqui usei round(p_dist,2) para arrendodar a distancia até a segunda casa decimal.\n",
        "# O %s funiona como uma reserva de espaço para o valor que virá depois de % e dentro de ()\n",
        "\n",
        "print(\"A distÂncia entre os pontos é de %s graus decimais\"%(p_dist))\n"
      ],
      "metadata": {
        "colab": {
          "base_uri": "https://localhost:8080/"
        },
        "id": "oT2g5iXrjnRT",
        "outputId": "86e22384-bba8-4e27-d678-a3e0f8b84bb2"
      },
      "execution_count": null,
      "outputs": [
        {
          "output_type": "stream",
          "name": "stdout",
          "text": [
            "A distÂncia entre os pontos é de 11.00727032465361 graus decimais\n"
          ]
        }
      ]
    },
    {
      "cell_type": "code",
      "source": [
        "print('A distÂncia entre os pontos é de %s graus decimais'%(round(p_dist,2)))"
      ],
      "metadata": {
        "colab": {
          "base_uri": "https://localhost:8080/"
        },
        "id": "NlzTCjonmrzz",
        "outputId": "68fc64fd-a0be-4c85-bbfc-fc61d0efd328"
      },
      "execution_count": null,
      "outputs": [
        {
          "output_type": "stream",
          "name": "stdout",
          "text": [
            "A distÂncia entre os pontos é de 11.01 graus decimais\n"
          ]
        }
      ]
    },
    {
      "cell_type": "code",
      "source": [
        "print(p_dist)"
      ],
      "metadata": {
        "colab": {
          "base_uri": "https://localhost:8080/"
        },
        "id": "Qrhl_rBynM9p",
        "outputId": "38b40124-ca39-4810-f3e3-cc811ae54d5f"
      },
      "execution_count": null,
      "outputs": [
        {
          "output_type": "stream",
          "name": "stdout",
          "text": [
            "11.00727032465361\n"
          ]
        }
      ]
    },
    {
      "cell_type": "code",
      "source": [
        "print(round(p_dist, 2))"
      ],
      "metadata": {
        "colab": {
          "base_uri": "https://localhost:8080/"
        },
        "id": "6AFPxuvYnaRJ",
        "outputId": "67834108-35c4-4e09-fdd4-cbbf043ab4ce"
      },
      "execution_count": null,
      "outputs": [
        {
          "output_type": "stream",
          "name": "stdout",
          "text": [
            "11.01\n"
          ]
        }
      ]
    },
    {
      "cell_type": "markdown",
      "source": [
        "#Criando linhas geometricas no Python"
      ],
      "metadata": {
        "id": "6vX-KtFJnGXo"
      }
    },
    {
      "cell_type": "code",
      "source": [
        "#Criando uma linha a partir dos nossos pontos\n",
        "linha=LineString([p1,p2,p3])\n",
        "\n",
        "#Criando uma linha a partir de pares de coordenadas\n",
        "linha2=LineString([(5.4,3.0),(10,-7),(80,25)])"
      ],
      "metadata": {
        "id": "41dTC7Bbne8h"
      },
      "execution_count": null,
      "outputs": []
    },
    {
      "cell_type": "code",
      "source": [
        "print(linha)\n",
        "print(linha2)\n",
        "type(linha)"
      ],
      "metadata": {
        "colab": {
          "base_uri": "https://localhost:8080/"
        },
        "id": "_oXk3MIOoOPN",
        "outputId": "13abae65-918a-41b6-a42f-1fd32b95d7a9"
      },
      "execution_count": null,
      "outputs": [
        {
          "output_type": "stream",
          "name": "stdout",
          "text": [
            "LINESTRING (5.4 3, 10 -7, 80 25)\n",
            "LINESTRING (5.4 3, 10 -7, 80 25)\n"
          ]
        },
        {
          "output_type": "execute_result",
          "data": {
            "text/plain": [
              "shapely.geometry.linestring.LineString"
            ]
          },
          "metadata": {},
          "execution_count": 20
        }
      ]
    },
    {
      "cell_type": "markdown",
      "source": [
        "#Atributos e funções da geometria de linha"
      ],
      "metadata": {
        "id": "N38nGChX0vZm"
      }
    },
    {
      "cell_type": "code",
      "source": [
        "#Extrair as coordenadas da linha\n",
        "lxy=linha.xy\n",
        "\n",
        "print(lxy)"
      ],
      "metadata": {
        "colab": {
          "base_uri": "https://localhost:8080/"
        },
        "id": "ZRmG6ME5om4S",
        "outputId": "a8188ae1-3baf-4b02-f604-f171ef369456"
      },
      "execution_count": null,
      "outputs": [
        {
          "output_type": "stream",
          "name": "stdout",
          "text": [
            "(array('d', [5.4, 10.0, 80.0]), array('d', [3.0, -7.0, 25.0]))\n"
          ]
        }
      ]
    },
    {
      "cell_type": "code",
      "source": [
        "#Extraindo coordenadas x\n",
        "lx=lxy[0]\n",
        "\n",
        "#Extraindo as coordenadas y diretamente do objeto LineString\n",
        "ly=linha.xy[1]\n",
        "\n",
        "print(lx)\n",
        "print(ly)"
      ],
      "metadata": {
        "colab": {
          "base_uri": "https://localhost:8080/"
        },
        "id": "s6l7xdgo0_IS",
        "outputId": "0bbbfe36-5f54-4b6e-b22f-f5dfdafc4553"
      },
      "execution_count": null,
      "outputs": [
        {
          "output_type": "stream",
          "name": "stdout",
          "text": [
            "array('d', [5.4, 10.0, 80.0])\n",
            "array('d', [3.0, -7.0, 25.0])\n"
          ]
        }
      ]
    },
    {
      "cell_type": "code",
      "source": [
        "#Calculando o comprimento da linha\n",
        "l_comp=linha.length\n",
        "\n",
        "#Calculando o centroide da linha\n",
        "l_cent=linha\n",
        "\n",
        "#Qual é o tipo de dados do centroide?\n",
        "tipo_cent=type(l_cent)\n"
      ],
      "metadata": {
        "id": "V2vbbZej1WSo"
      },
      "execution_count": null,
      "outputs": []
    },
    {
      "cell_type": "code",
      "source": [
        "#Inspecionar os objetos\n",
        "print(\"O comprimento da linha é: %s\"%(round(l_comp,2)))\n",
        "print(l_cent)\n",
        "print(tipo_cent)"
      ],
      "metadata": {
        "colab": {
          "base_uri": "https://localhost:8080/"
        },
        "id": "rjCUVlHK15Hd",
        "outputId": "7f864975-35cc-469d-c984-bc761a484994"
      },
      "execution_count": null,
      "outputs": [
        {
          "output_type": "stream",
          "name": "stdout",
          "text": [
            "O comprimento da linha é: 87.97\n",
            "LINESTRING (5.4 3, 10 -7, 80 25)\n",
            "<class 'shapely.geometry.linestring.LineString'>\n"
          ]
        }
      ]
    },
    {
      "cell_type": "code",
      "source": [],
      "metadata": {
        "id": "ftvPxC1b2H73"
      },
      "execution_count": null,
      "outputs": []
    },
    {
      "cell_type": "markdown",
      "source": [
        "#Criando geometria de polígono"
      ],
      "metadata": {
        "id": "dw-5ATehqe2I"
      }
    },
    {
      "cell_type": "code",
      "source": [
        "#Crie um polígono a partir das coordenadas\n",
        "plg=Polygon([(5.5,4.2),(10,-1),(8,5)])\n",
        "\n",
        "#Se quisermos utilizar os pontos previamente criados, precisamos de uma adaptação\n",
        "#dados pares de coordenadas como entrada\n",
        "plg2=Polygon([p.x,p.y] for p in [p1,p2,p3])\n",
        "\n",
        "#Podemos acessar o tipo de geometria no formato de texto\n",
        "plg_tipo=plg.geom_type\n",
        "\n",
        "#Se verificarmos com a função type obteremos o tipo em um formato diferente\n",
        "plg_tipo2=type(plg)"
      ],
      "metadata": {
        "id": "uOvcBxgkqm8r"
      },
      "execution_count": null,
      "outputs": []
    },
    {
      "cell_type": "code",
      "source": [
        "#Agora vamos inspecionar esses objetos\n",
        "print(plg)\n",
        "print(plg2)\n",
        "print(plg_tipo)\n",
        "print(plg_tipo2)"
      ],
      "metadata": {
        "colab": {
          "base_uri": "https://localhost:8080/"
        },
        "id": "gdGoQsUiq4l8",
        "outputId": "cf026278-d6b1-4218-9da5-8273d0ff6a3e"
      },
      "execution_count": null,
      "outputs": [
        {
          "output_type": "stream",
          "name": "stdout",
          "text": [
            "POLYGON ((5.5 4.2, 10 -1, 8 5, 5.5 4.2))\n",
            "POLYGON ((5.4 3, 10 -7, 80 25, 5.4 3))\n",
            "Polygon\n",
            "<class 'shapely.geometry.polygon.Polygon'>\n"
          ]
        }
      ]
    },
    {
      "cell_type": "code",
      "source": [
        "# Vamos criar um retângulo envolvente para o mundo e adicionar um buraco\n",
        "# Primeiro definimos as coordenadas do exterior do polígono\n",
        "mundo_ext=[(-180,90),(-180,-90),(180,-90),(180,90)]\n",
        "\n",
        "# Agora vamos definir as cordenadas para criar um buraco deixando 10 graus decimais nas bordas.\n",
        "# Repare que nós criamos a variavel buraco no formato de lista, porque poderiamos ter vários\n",
        "#buracos que seria passados como lista para criar o polígono vazado\n",
        "buraco=[[(-170,80),(-170,-80),(170,-80),(170,80)]]\n",
        "\n",
        "#Criando o polígono sem buraco\n",
        "mundo=Polygon(shell=mundo_ext)\n",
        "\n",
        "#Agora podemos criar o polígono com o buraco dentro\n",
        "mundo_buraco=Polygon(shell=mundo_ext,holes=buraco)\n"
      ],
      "metadata": {
        "id": "qeWK1yOEufIV"
      },
      "execution_count": null,
      "outputs": []
    },
    {
      "cell_type": "code",
      "source": [
        "#Agora vamos inspecionar as geometrias:\n",
        "print(mundo)\n",
        "print(mundo_buraco)\n",
        "type(mundo_buraco)"
      ],
      "metadata": {
        "colab": {
          "base_uri": "https://localhost:8080/"
        },
        "id": "7A4d8KkIz0cx",
        "outputId": "ce8c62f5-8b48-4364-9d11-64574d4b8837"
      },
      "execution_count": null,
      "outputs": [
        {
          "output_type": "stream",
          "name": "stdout",
          "text": [
            "POLYGON ((-180 90, -180 -90, 180 -90, 180 90, -180 90))\n",
            "POLYGON ((-180 90, -180 -90, 180 -90, 180 90, -180 90), (-170 80, -170 -80, 170 -80, 170 80, -170 80))\n"
          ]
        },
        {
          "output_type": "execute_result",
          "data": {
            "text/plain": [
              "shapely.geometry.polygon.Polygon"
            ]
          },
          "metadata": {},
          "execution_count": 28
        }
      ]
    },
    {
      "cell_type": "markdown",
      "source": [
        "#Atributos e funções da geometria de polígono"
      ],
      "metadata": {
        "id": "WOtxYXZeUu7a"
      }
    },
    {
      "cell_type": "code",
      "source": [
        "# Extrair o centroide do polígono\n",
        "cent_mundo=mundo.centroid\n",
        "\n",
        "#Extraindo a area do polígono\n",
        "area_mundo=mundo.area\n",
        "\n",
        "#Extraindo o retângulo envolvente\n",
        "bbox_mundo=mundo.bounds\n",
        "\n",
        "#Extraindo o exterior do polígono\n",
        "mundo_fora=mundo.exterior\n",
        "\n",
        "#Extraindo o comprimento do exterior do polígono\n",
        "mundo_ext_comp=mundo.length"
      ],
      "metadata": {
        "id": "N-X2BAYZT7w4"
      },
      "execution_count": null,
      "outputs": []
    },
    {
      "cell_type": "code",
      "source": [
        "#Inspecionar:\n",
        "\n",
        "print(cent_mundo)\n",
        "print(area_mundo)\n",
        "print(bbox_mundo)\n",
        "print(mundo_fora)\n",
        "print(mundo_ext_comp)"
      ],
      "metadata": {
        "colab": {
          "base_uri": "https://localhost:8080/"
        },
        "id": "gcwOj__DVcC0",
        "outputId": "b90978a2-dfbf-43b9-8c6f-3ae47f15107f"
      },
      "execution_count": null,
      "outputs": [
        {
          "output_type": "stream",
          "name": "stdout",
          "text": [
            "POINT (0 0)\n",
            "64800.0\n",
            "(-180.0, -90.0, 180.0, 90.0)\n",
            "LINEARRING (-180 90, -180 -90, 180 -90, 180 90, -180 90)\n",
            "1080.0\n"
          ]
        }
      ]
    },
    {
      "cell_type": "code",
      "source": [
        "print(mundo_buraco.centroid)\n",
        "print(mundo_buraco.area)\n",
        "print(mundo_buraco.bounds)\n",
        "print(mundo_buraco.exterior)\n",
        "print(mundo_buraco.length)"
      ],
      "metadata": {
        "colab": {
          "base_uri": "https://localhost:8080/"
        },
        "id": "2M28y8b_VzlH",
        "outputId": "721d7986-ae3f-4a42-9c1f-4225ebbd7796"
      },
      "execution_count": null,
      "outputs": [
        {
          "output_type": "stream",
          "name": "stdout",
          "text": [
            "POINT (0 0)\n",
            "10400.0\n",
            "(-180.0, -90.0, 180.0, 90.0)\n",
            "LINEARRING (-180 90, -180 -90, 180 -90, 180 90, -180 90)\n",
            "2080.0\n"
          ]
        }
      ]
    },
    {
      "cell_type": "markdown",
      "source": [
        "#Coleçoes de geometrias"
      ],
      "metadata": {
        "id": "pX8wke4CgbHe"
      }
    },
    {
      "cell_type": "code",
      "source": [
        "# IMporte as coleções de geometria e retÂngulo envolvente\n",
        "from shapely.geometry import MultiLineString, MultiPoint, MultiPolygon, box\n",
        "\n",
        "#Crie um objeto do tipo multiponto usando os pontos que criamos lá no começo\n",
        "multi_pts=MultiPoint([p1,p2,p3])\n",
        "\n",
        "#Também é possivel utilizar pares de coordenadas para criar um objeto do tipo multiponto\n",
        "multi_pts2=MultiPoint([(2.2,10),(4,-10),(25.4,-3)])\n",
        "\n",
        "#Também podemos criar um objeto com múltiplas linhas\n",
        "l1=LineString([p1,p2])\n",
        "l2=LineString([p2,p3])\n",
        "\n",
        "multi_lina=MultiLineString([l1,l2])"
      ],
      "metadata": {
        "id": "_JbAPYVkYMqQ"
      },
      "execution_count": null,
      "outputs": []
    },
    {
      "cell_type": "code",
      "source": [
        "multi_pts"
      ],
      "metadata": {
        "colab": {
          "base_uri": "https://localhost:8080/",
          "height": 122
        },
        "id": "_w0w9xZ0hj6K",
        "outputId": "e4c4a5a9-f140-4dfe-b73d-ccfb11e5787e"
      },
      "execution_count": null,
      "outputs": [
        {
          "output_type": "execute_result",
          "data": {
            "text/plain": [
              "<shapely.geometry.multipoint.MultiPoint at 0x7f12c2348bd0>"
            ],
            "image/svg+xml": "<svg xmlns=\"http://www.w3.org/2000/svg\" xmlns:xlink=\"http://www.w3.org/1999/xlink\" width=\"100.0\" height=\"100.0\" viewBox=\"2.4160000000000004 -9.984 80.568 37.968\" preserveAspectRatio=\"xMinYMin meet\"><g transform=\"matrix(1,0,0,-1,0,18.0)\"><g><circle cx=\"5.4\" cy=\"3.0\" r=\"2.41704\" stroke=\"#555555\" stroke-width=\"0.80568\" fill=\"#66cc99\" opacity=\"0.6\" /><circle cx=\"10.0\" cy=\"-7.0\" r=\"2.41704\" stroke=\"#555555\" stroke-width=\"0.80568\" fill=\"#66cc99\" opacity=\"0.6\" /><circle cx=\"80.0\" cy=\"25.0\" r=\"2.41704\" stroke=\"#555555\" stroke-width=\"0.80568\" fill=\"#66cc99\" opacity=\"0.6\" /></g></g></svg>"
          },
          "metadata": {},
          "execution_count": 34
        }
      ]
    },
    {
      "cell_type": "code",
      "source": [
        "# A criação de um objeto do tipo multipolígono também é parecida\n",
        "#Vamos dividir o mundo em hemisférios ocidentais e orientais e adicionar um buraco no hemisferio ocidental\n",
        "#Primeiro criamos o exterior do ocidente\n",
        "oc_ext=[(-180,90),(-180,-90),(0,-90),(0,90)]\n",
        "\n",
        "#Agora criaremos o buraco. Lmebrando que deve ser uma lista pois podemos ter mais de um\n",
        "oc_bur=[[(-170,80),(-170,-80),(-10,-80),(-10,80)]]\n",
        "\n",
        "#Agora criamos o polígono\n",
        "oc_pol=Polygon(shell=oc_ext, holes=oc_bur)"
      ],
      "metadata": {
        "id": "AW6LdPVFkXSZ"
      },
      "execution_count": null,
      "outputs": []
    },
    {
      "cell_type": "code",
      "source": [
        "#Agora vamos criar o polígono do hemisferio oriental atraves da função box que cria um retÂngulo envolvente\n",
        "#Para criar um retângulo envolvente precisamos especificar as coordenadas do canto inferior esquerdo\n",
        "# e do canto inferior direito\n",
        "min_x,min_y=0,-90\n",
        "max_x,max_y=180,90\n",
        "\n",
        "#Agora podemos criar o polígono usando a função box(caixa) que vem do termo bounding box (retângulo\n",
        "# envolvente em inglÊs)\n",
        "or_box=box(minx=min_x, miny=min_y, maxx=max_x, maxy=max_y)\n",
        "\n",
        "#Agora podemos criar o multipolígono passando os pigono criados anteriormente para \n",
        "# a função MultiPolygon no formato de lista\n",
        "multi_plg=MultiPolygon([oc_pol,or_box])"
      ],
      "metadata": {
        "id": "tNOLkI-dm8QT"
      },
      "execution_count": null,
      "outputs": []
    },
    {
      "cell_type": "code",
      "source": [
        "multi_plg"
      ],
      "metadata": {
        "colab": {
          "base_uri": "https://localhost:8080/",
          "height": 230
        },
        "id": "CMcCPsUVsVU4",
        "outputId": "fba9a863-55b1-4987-92a8-33feddb02672"
      },
      "execution_count": null,
      "outputs": [
        {
          "output_type": "execute_result",
          "data": {
            "text/plain": [
              "<shapely.geometry.multipolygon.MultiPolygon at 0x7f12ba382910>"
            ],
            "image/svg+xml": "<svg xmlns=\"http://www.w3.org/2000/svg\" xmlns:xlink=\"http://www.w3.org/1999/xlink\" width=\"300\" height=\"208.8\" viewBox=\"-194.4 -104.4 388.8 208.8\" preserveAspectRatio=\"xMinYMin meet\"><g transform=\"matrix(1,0,0,-1,0,0.0)\"><g><path fill-rule=\"evenodd\" fill=\"#ff3333\" stroke=\"#555555\" stroke-width=\"2.592\" opacity=\"0.6\" d=\"M -180.0,90.0 L -180.0,-90.0 L 0.0,-90.0 L 0.0,90.0 L -180.0,90.0 z M -170.0,80.0 L -170.0,-80.0 L -10.0,-80.0 L -10.0,80.0 L -170.0,80.0 z\" /><path fill-rule=\"evenodd\" fill=\"#ff3333\" stroke=\"#555555\" stroke-width=\"2.592\" opacity=\"0.6\" d=\"M 180.0,-90.0 L 180.0,90.0 L 0.0,90.0 L 0.0,-90.0 L 180.0,-90.0 z\" /></g></g></svg>"
          },
          "metadata": {},
          "execution_count": 37
        }
      ]
    },
    {
      "cell_type": "code",
      "source": [
        "#Agora vamos inspecionar os objetos\n",
        "\n",
        "print(multi_pts)\n",
        "print(multi_lina)\n",
        "print(or_box)\n",
        "print(multi_plg)\n"
      ],
      "metadata": {
        "colab": {
          "base_uri": "https://localhost:8080/"
        },
        "id": "TX0xuepEsa6t",
        "outputId": "65bdb51e-ee37-4c49-b823-cee5dd6d99d0"
      },
      "execution_count": null,
      "outputs": [
        {
          "output_type": "stream",
          "name": "stdout",
          "text": [
            "MULTIPOINT (5.4 3, 10 -7, 80 25)\n",
            "MULTILINESTRING ((5.4 3, 10 -7), (10 -7, 80 25))\n",
            "POLYGON ((180 -90, 180 90, 0 90, 0 -90, 180 -90))\n",
            "MULTIPOLYGON (((-180 90, -180 -90, 0 -90, 0 90, -180 90), (-170 80, -170 -80, -10 -80, -10 80, -170 80)), ((180 -90, 180 90, 0 90, 0 -90, 180 -90)))\n"
          ]
        }
      ]
    },
    {
      "cell_type": "markdown",
      "source": [
        "#Atributos e funções das coleções de geometrias"
      ],
      "metadata": {
        "id": "J2tKz3WWtVwE"
      }
    },
    {
      "cell_type": "code",
      "source": [
        "#Polígono convexo do objeto multipontos. O poligono convexo é determinar o menor polígon que\n",
        "#engloba um determinado conjunto de geometrias ou feições\n",
        "conv_pol=multi_pts.convex_hull\n",
        "\n",
        "#Número de linhas em um objeto MultiLineString\n",
        "n_lin=len(multi_lina.geoms)\n",
        "\n",
        "#Area de um objeto MultyPolygon\n",
        "mlt_plg_area=multi_plg.area\n",
        "\n",
        "#Também podemos usar indices para acessar diferentes feições dentro da coleção de geometrias\n",
        "#Calcula a area do polígono ocidental\n",
        "oc_area=multi_plg.geoms[0].area\n",
        "\n",
        "#Podemos verificar se a geometria multipoligonos é valida. Ela é considerada valida quando os poligonos\n",
        "#Não intersectam uns aos outros. Esse não deve ser o caso do nosso polígono do mundo, porque\n",
        "#os hemisferios tem a mesma origem e intersectam no meridiano de Greenwich (0° de longitude)\n",
        "val=multi_plg.is_valid"
      ],
      "metadata": {
        "id": "9mBTxoT2tMWV"
      },
      "execution_count": null,
      "outputs": []
    },
    {
      "cell_type": "code",
      "source": [
        "# Agora vamos inspecionar os resultados:\n",
        "\n",
        "print(conv_pol)\n",
        "print(n_lin)\n",
        "print(mlt_plg_area)\n",
        "print(val)"
      ],
      "metadata": {
        "colab": {
          "base_uri": "https://localhost:8080/"
        },
        "id": "3qTNP_0WvvKn",
        "outputId": "7050ae87-5230-49f2-c743-c70a16159a3a"
      },
      "execution_count": null,
      "outputs": [
        {
          "output_type": "stream",
          "name": "stdout",
          "text": [
            "POLYGON ((10 -7, 5.4 3, 80 25, 10 -7))\n",
            "2\n",
            "39200.0\n",
            "False\n"
          ]
        }
      ]
    },
    {
      "cell_type": "code",
      "source": [],
      "metadata": {
        "id": "A76xXfk5wCBA"
      },
      "execution_count": null,
      "outputs": []
    }
  ]
}